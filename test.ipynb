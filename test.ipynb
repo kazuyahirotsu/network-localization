{
 "cells": [
  {
   "cell_type": "code",
   "execution_count": 1,
   "metadata": {},
   "outputs": [
    {
     "name": "stdout",
     "output_type": "stream",
     "text": [
      "2, ['apple', 'pineapple'], ['apple', 'pine', 'apple']\n"
     ]
    }
   ],
   "source": [
    "def wordBreak(s, wordDict):\n",
    "    word_set = set(wordDict)\n",
    "    memo = {}\n",
    "    def dfs(start):\n",
    "        if start == len(s):\n",
    "            return [[]]  # Return a list containing an empty list\n",
    "        if start in memo:\n",
    "            return memo[start]\n",
    "        result = []\n",
    "        for word in word_set:\n",
    "            if s.startswith(word, start):\n",
    "                sublists = dfs(start + len(word))\n",
    "                for sublist in sublists:\n",
    "                    result.append([word] + sublist)\n",
    "        memo[start] = result\n",
    "        return result\n",
    "    total_lists = dfs(0)\n",
    "    total_lists.sort(key=lambda x: len(x))  # Sort to match sample output\n",
    "    print(len(total_lists), end=\", \")\n",
    "    for idx, lst in enumerate(total_lists):\n",
    "        print(lst, end=\"\")\n",
    "        if idx != len(total_lists) -1:\n",
    "            print(\", \", end=\"\")\n",
    "    print()\n",
    "\n",
    "# Sample input\n",
    "s = \"applepineapple\"\n",
    "wordDict = [\"apple\",\"pine\",\"pineapple\"]\n",
    "\n",
    "wordBreak(s, wordDict)\n",
    "\n"
   ]
  },
  {
   "cell_type": "code",
   "execution_count": null,
   "metadata": {},
   "outputs": [],
   "source": []
  }
 ],
 "metadata": {
  "kernelspec": {
   "display_name": "Python 3",
   "language": "python",
   "name": "python3"
  },
  "language_info": {
   "codemirror_mode": {
    "name": "ipython",
    "version": 3
   },
   "file_extension": ".py",
   "mimetype": "text/x-python",
   "name": "python",
   "nbconvert_exporter": "python",
   "pygments_lexer": "ipython3",
   "version": "3.10.11"
  }
 },
 "nbformat": 4,
 "nbformat_minor": 2
}
