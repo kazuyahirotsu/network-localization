{
 "cells": [
  {
   "cell_type": "code",
   "execution_count": 34,
   "metadata": {},
   "outputs": [
    {
     "data": {
      "text/plain": [
       "<matplotlib.colorbar.Colorbar at 0x1e36c252620>"
      ]
     },
     "execution_count": 34,
     "metadata": {},
     "output_type": "execute_result"
    },
    {
     "data": {
      "image/png": "[encoded data removed]",
      "text/plain": [
       "<Figure size 432x288 with 2 Axes>"
      ]
     },
     "metadata": {},
     "output_type": "display_data"
    }
   ],
   "source": [
    "import random\n",
    "environment = [[0] * 10 for _ in range(10)]\n",
    "old_id = [0, 0]\n",
    "old_environment = 0\n",
    "param = 1\n",
    "\n",
    "for i in range(10):\n",
    "    for j in range(10):\n",
    "        id = [i//param, j//param]\n",
    "        if id != old_id:\n",
    "            environment[i][j] = random.randint(0, 10)\n",
    "            old_environment = environment[i][j]\n",
    "            old_id = id\n",
    "        else:\n",
    "            environment[i][j] = environment[i//param][j//param]\n",
    "            old_id = id\n",
    "\n",
    "# visualize the environment with plt\n",
    "# change the color of the cell according to the value\n",
    "import matplotlib.pyplot as plt\n",
    "import numpy as np\n",
    "\n",
    "plt.figure(facecolor='w')\n",
    "plt.imshow(environment)\n",
    "plt.colorbar()\n",
    "\n",
    "\n"
   ]
  },
  {
   "cell_type": "code",
   "execution_count": 10,
   "metadata": {},
   "outputs": [],
   "source": [
    "import numpy as np\n",
    "import matplotlib.pyplot as plt\n",
    "from shapely.geometry import LineString, Polygon, MultiPolygon, box\n",
    "from shapely.ops import split\n",
    "from matplotlib.patches import Polygon as MplPolygon\n",
    "from matplotlib.collections import PatchCollection\n",
    "\n",
    "# Define the map boundaries\n",
    "map_bounds = box(0, 0, 10, 10)\n"
   ]
  },
  {
   "cell_type": "code",
   "execution_count": 11,
   "metadata": {},
   "outputs": [],
   "source": [
    "def generate_random_lines(num_lines, map_bounds):\n",
    "    lines = []\n",
    "    for _ in range(num_lines):\n",
    "        # Random points on the edges of the map\n",
    "        side = np.random.choice(['left', 'right', 'top', 'bottom'])\n",
    "        if side in ['left', 'right']:\n",
    "            x = 0 if side == 'left' else map_bounds.bounds[2]\n",
    "            y1, y2 = np.random.uniform(map_bounds.bounds[1], map_bounds.bounds[3], 2)\n",
    "            line = LineString([(x, y1), (np.random.uniform(map_bounds.bounds[0], map_bounds.bounds[2]), y2)])\n",
    "        else:\n",
    "            y = 0 if side == 'bottom' else map_bounds.bounds[3]\n",
    "            x1, x2 = np.random.uniform(map_bounds.bounds[0], map_bounds.bounds[2], 2)\n",
    "            line = LineString([(x1, y), (x2, np.random.uniform(map_bounds.bounds[1], map_bounds.bounds[3]))])\n",
    "        lines.append(line)\n",
    "    return lines\n",
    "\n",
    "# Generate random lines\n",
    "num_lines = 5  # Adjust the number of lines as needed\n",
    "random_lines = generate_random_lines(num_lines, map_bounds)\n"
   ]
  },
  {
   "cell_type": "code",
   "execution_count": 13,
   "metadata": {},
   "outputs": [],
   "source": [
    "from shapely.geometry import GeometryCollection, MultiPolygon, Polygon\n",
    "from shapely.ops import split\n",
    "\n",
    "def partition_map(map_polygon, lines):\n",
    "    regions = [map_polygon]\n",
    "    for line in lines:\n",
    "        new_regions = []\n",
    "        for region in regions:\n",
    "            # Check if the region is a Polygon or MultiPolygon\n",
    "            if isinstance(region, (Polygon, MultiPolygon)):\n",
    "                split_result = split(region, line)\n",
    "                # Handle the split result based on its type\n",
    "                if isinstance(split_result, (Polygon, MultiPolygon)):\n",
    "                    # If it's a Polygon or MultiPolygon, add it to new_regions\n",
    "                    if isinstance(split_result, Polygon):\n",
    "                        new_regions.append(split_result)\n",
    "                    else:\n",
    "                        new_regions.extend(split_result.geoms)\n",
    "                elif isinstance(split_result, GeometryCollection):\n",
    "                    # Extract Polygons from the GeometryCollection\n",
    "                    for geom in split_result.geoms:\n",
    "                        if isinstance(geom, (Polygon, MultiPolygon)):\n",
    "                            if isinstance(geom, Polygon):\n",
    "                                new_regions.append(geom)\n",
    "                            else:\n",
    "                                new_regions.extend(geom.geoms)\n",
    "                else:\n",
    "                    # If it's another geometry type, you can choose to handle it or ignore it\n",
    "                    pass\n",
    "            else:\n",
    "                # If the region is not a Polygon or MultiPolygon, skip it or handle accordingly\n",
    "                pass\n",
    "        regions = new_regions\n",
    "    return regions\n",
    "\n"
   ]
  },
  {
   "cell_type": "code",
   "execution_count": 15,
   "metadata": {},
   "outputs": [],
   "source": [
    "regions = partition_map(map_bounds, random_lines)\n"
   ]
  },
  {
   "cell_type": "code",
   "execution_count": 16,
   "metadata": {},
   "outputs": [],
   "source": [
    "# Assign IDs to regions\n",
    "region_polygons = {}\n",
    "for idx, region in enumerate(regions):\n",
    "    region_polygons[idx + 1] = region\n"
   ]
  },
  {
   "cell_type": "code",
   "execution_count": 17,
   "metadata": {},
   "outputs": [
    {
     "name": "stderr",
     "output_type": "stream",
     "text": [
      "C:\\Users\\kazuya\\AppData\\Local\\Temp\\ipykernel_53972\\977697206.py:6: MatplotlibDeprecationWarning: Passing the closed parameter of __init__() positionally is deprecated since Matplotlib 3.6; the parameter will become keyword-only two minor releases later.\n",
      "  mpl_poly = MplPolygon(list(polygon.exterior.coords), True)\n"
     ]
    },
    {
     "data": {
      "image/png": "[encoded data removed]",
      "text/plain": [
       "<Figure size 576x576 with 2 Axes>"
      ]
     },
     "metadata": {
      "needs_background": "light"
     },
     "output_type": "display_data"
    }
   ],
   "source": [
    "def plot_regions(region_polygons, lines=None):\n",
    "    fig, ax = plt.subplots(figsize=(8, 8))\n",
    "    patches = []\n",
    "    colors = []\n",
    "    for region_id, polygon in region_polygons.items():\n",
    "        mpl_poly = MplPolygon(list(polygon.exterior.coords), True)\n",
    "        patches.append(mpl_poly)\n",
    "        colors.append(region_id)\n",
    "    p = PatchCollection(patches, cmap=plt.cm.get_cmap('tab20'), alpha=0.5)\n",
    "    p.set_array(np.array(colors))\n",
    "    ax.add_collection(p)\n",
    "    \n",
    "    # Plot the random lines\n",
    "    if lines:\n",
    "        for line in lines:\n",
    "            x, y = line.xy\n",
    "            ax.plot(x, y, color='black')\n",
    "    \n",
    "    plt.xlim(map_bounds.bounds[0], map_bounds.bounds[2])\n",
    "    plt.ylim(map_bounds.bounds[1], map_bounds.bounds[3])\n",
    "    plt.xlabel('X Coordinate')\n",
    "    plt.ylabel('Y Coordinate')\n",
    "    plt.title('Map Partitioned by Random Lines')\n",
    "    plt.colorbar(p, ax=ax, label='Region ID')\n",
    "    plt.grid(True)\n",
    "    plt.show()\n",
    "\n",
    "# Visualize the regions and lines\n",
    "plot_regions(region_polygons, random_lines)\n"
   ]
  },
  {
   "cell_type": "code",
   "execution_count": 35,
   "metadata": {},
   "outputs": [
    {
     "data": {
      "text/plain": [
       "{}"
      ]
     },
     "execution_count": 35,
     "metadata": {},
     "output_type": "execute_result"
    }
   ],
   "source": [
    "d = {}\n",
    "d['a'] = 1\n",
    "del d['a']\n",
    "d"
   ]
  },
  {
   "cell_type": "code",
   "execution_count": 36,
   "metadata": {},
   "outputs": [],
   "source": [
    "s = set()\n",
    "s.add(1)\n",
    "s.remove(1)"
   ]
  },
  {
   "cell_type": "code",
   "execution_count": 40,
   "metadata": {},
   "outputs": [],
   "source": [
    "from collections import deque"
   ]
  },
  {
   "cell_type": "code",
   "execution_count": 54,
   "metadata": {},
   "outputs": [
    {
     "name": "stdout",
     "output_type": "stream",
     "text": [
      "deque([2, 1])\n"
     ]
    },
    {
     "data": {
      "text/plain": [
       "2"
      ]
     },
     "execution_count": 54,
     "metadata": {},
     "output_type": "execute_result"
    }
   ],
   "source": [
    "q = deque()\n",
    "q.append(1)\n",
    "q.appendleft(2)\n",
    "print(q)\n",
    "q.popleft()"
   ]
  },
  {
   "cell_type": "code",
   "execution_count": 47,
   "metadata": {},
   "outputs": [
    {
     "data": {
      "text/plain": [
       "defaultdict(list, {1: [2]})"
      ]
     },
     "execution_count": 47,
     "metadata": {},
     "output_type": "execute_result"
    }
   ],
   "source": [
    "from collections import defaultdict\n",
    "d = defaultdict(list)\n",
    "d[1].append(2)\n",
    "d"
   ]
  },
  {
   "cell_type": "code",
   "execution_count": 50,
   "metadata": {},
   "outputs": [
    {
     "data": {
      "text/plain": [
       "1"
      ]
     },
     "execution_count": 50,
     "metadata": {},
     "output_type": "execute_result"
    }
   ],
   "source": [
    "import heapq\n",
    "q = []\n",
    "heapq.heappush(q,1)\n",
    "heapq.heappush(q,5)\n",
    "heapq.heappush(q,2)\n",
    "heapq.heappush(q,4)\n",
    "heapq.heappush(q,1)\n",
    "heapq.heappop(q)"
   ]
  },
  {
   "cell_type": "code",
   "execution_count": 53,
   "metadata": {},
   "outputs": [
    {
     "data": {
      "text/plain": [
       "[1, 2, 3, 4, 5]"
      ]
     },
     "execution_count": 53,
     "metadata": {},
     "output_type": "execute_result"
    }
   ],
   "source": [
    "import copy\n",
    "a = [1,2,3,4,5]\n",
    "b = copy.copy(a)\n",
    "a[0] = 10\n",
    "b"
   ]
  },
  {
   "cell_type": "code",
   "execution_count": 59,
   "metadata": {},
   "outputs": [
    {
     "ename": "",
     "evalue": "",
     "output_type": "error",
     "traceback": [
      "\u001b[1;31mThe Kernel crashed while executing code in the current cell or a previous cell. \n",
      "\u001b[1;31mPlease review the code in the cell(s) to identify a possible cause of the failure. \n",
      "\u001b[1;31mClick <a href='https://aka.ms/vscodeJupyterKernelCrash'>here</a> for more info. \n",
      "\u001b[1;31mView Jupyter <a href='command:jupyter.viewOutput'>log</a> for further details."
     ]
    }
   ],
   "source": [
    "def can_be_segmented(word, wordDict):\n",
    "    \n",
    "    num_possible = 0\n",
    "    list_segmentation = []\n",
    "    \n",
    "    if word in wordDict:\n",
    "        num_possible += 1\n",
    "\n",
    "    for i in range(len(s)-1):\n",
    "        prefix = s[:i+1]\n",
    "        suffix = s[i+1:]\n",
    "        \n",
    "        if prefix in wordDict:\n",
    "            suffix_segment = can_be_segmented(suffix, wordDict)\n",
    "            if suffix_segment[0]:\n",
    "                num_possible += suffix_segment[0]\n",
    "                for l in suffix_segment[1]:\n",
    "                    list_segmentation.append([prefix]+l)\n",
    "    \n",
    "    return [num_possible, list_segmentation]\n",
    "\n",
    "# Example usage\n",
    "s = \"applepineapple\"\n",
    "wordDict = [\"apple\", \"pine\", \"pineapple\"]\n",
    "\n",
    "result = can_be_segmented(s, wordDict)\n",
    "print(result)\n"
   ]
  },
  {
   "cell_type": "code",
   "execution_count": null,
   "metadata": {},
   "outputs": [],
   "source": []
  }
 ],
 "metadata": {
  "kernelspec": {
   "display_name": "Python 3",
   "language": "python",
   "name": "python3"
  },
  "language_info": {
   "codemirror_mode": {
    "name": "ipython",
    "version": 3
   },
   "file_extension": ".py",
   "mimetype": "text/x-python",
   "name": "python",
   "nbconvert_exporter": "python",
   "pygments_lexer": "ipython3",
   "version": "3.10.11"
  }
 },
 "nbformat": 4,
 "nbformat_minor": 2
}
