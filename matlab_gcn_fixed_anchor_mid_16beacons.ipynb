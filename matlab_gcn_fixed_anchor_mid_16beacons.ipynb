{
 "cells": [
  {
   "cell_type": "code",
   "execution_count": 10,
   "metadata": {},
   "outputs": [],
   "source": [
    "# Import necessary libraries\n",
    "import torch\n",
    "import numpy as np\n",
    "from scipy.io import loadmat\n",
    "from torch_geometric.data import Data, DataLoader\n",
    "from sklearn.preprocessing import StandardScaler\n",
    "import matplotlib.pyplot as plt\n",
    "from torch.nn import Sequential, Linear\n",
    "from torch_geometric.nn import NNConv\n",
    "import torch.nn.functional as F\n",
    "from tqdm import tqdm"
   ]
  },
  {
   "cell_type": "code",
   "execution_count": 11,
   "metadata": {},
   "outputs": [
    {
     "name": "stdout",
     "output_type": "stream",
     "text": [
      "Using device: cuda\n"
     ]
    }
   ],
   "source": [
    "# %% Device setup\n",
    "device = torch.device('cuda') if torch.cuda.is_available() else torch.device('cpu')\n",
    "print('Using device:', device)"
   ]
  },
  {
   "cell_type": "code",
   "execution_count": 12,
   "metadata": {},
   "outputs": [
    {
     "name": "stderr",
     "output_type": "stream",
     "text": [
      "Loading MATLAB data: 100%|██████████| 1000/1000 [00:00<00:00, 2250.57it/s]\n"
     ]
    }
   ],
   "source": [
    "# %% Load data from MATLAB files\n",
    "num_instances = 1000\n",
    "data_list = []\n",
    "\n",
    "for instance_idx in tqdm(range(1, num_instances + 1), desc=\"Loading MATLAB data\"):\n",
    "    filename = f\"matlab/data/mid_16beacons/data_instance_{instance_idx}.mat\"\n",
    "    mat_data = loadmat(filename)\n",
    "\n",
    "    # Extract positions and signal strength\n",
    "    node_latitudes = mat_data['nodeLatitudes'].flatten()\n",
    "    node_longitudes = mat_data['nodeLongitudes'].flatten()\n",
    "    signal_strength_matrix = mat_data['signal_strength_matrix']\n",
    "\n",
    "    # Number of nodes\n",
    "    num_nodes = len(node_latitudes)\n",
    "\n",
    "    # Create truth locations (latitude and longitude converted to x, y coordinates)\n",
    "    truth_location_list = np.column_stack((node_latitudes, node_longitudes))\n",
    "\n",
    "    # Compute distances and create edge attributes\n",
    "    edge_index_list = []\n",
    "    edge_attr_list = []\n",
    "\n",
    "    for i in range(num_nodes):\n",
    "        for j in range(num_nodes):\n",
    "            if i != j and not np.isnan(signal_strength_matrix[i, j, 0]):\n",
    "                edge_index_list.append([i, j])\n",
    "                edge_attr_list.append(signal_strength_matrix[i, j, :])  # Use all 10 simulated measurements\n",
    "    \n",
    "    edge_index = torch.tensor(edge_index_list, dtype=torch.long).t().contiguous()\n",
    "    edge_attr = torch.tensor(edge_attr_list, dtype=torch.float)\n",
    "\n",
    "    # Create node features\n",
    "    anchor_mask = torch.zeros(num_nodes, dtype=torch.bool)\n",
    "    anchor_mask[:4] = True  # First 4 nodes are anchors\n",
    "    unknown_mask = ~anchor_mask\n",
    "\n",
    "    # Node features: coordinates and anchor flag (1 for anchor, 0 for unknown)\n",
    "    node_features = []\n",
    "    # for i in range(num_nodes):\n",
    "    #     is_anchor = 1 if i < 1 else 0\n",
    "    #     node_features.append([node_latitudes[i], node_longitudes[i], is_anchor])\n",
    "    # Node features: coordinates (anchors only) and anchor flag (1 for anchor, 0 for unknown)\n",
    "    for i in range(num_nodes):\n",
    "        is_anchor = 1 if i < 4 else 0  # Adjust if your anchors are not the first 4 nodes\n",
    "        if is_anchor:\n",
    "            node_features.append([node_latitudes[i], node_longitudes[i], is_anchor])\n",
    "        else:\n",
    "            # Initialize unknown nodes' positions with zeros\n",
    "            node_features.append([0.0, 0.0, is_anchor])\n",
    "    x = torch.tensor(node_features, dtype=torch.float)\n",
    "\n",
    "    # Labels (ground truth positions)\n",
    "    y = torch.tensor(truth_location_list, dtype=torch.float)\n",
    "\n",
    "    # Create PyTorch Geometric Data object\n",
    "    data = Data(x=x, edge_index=edge_index, edge_attr=edge_attr, y=y)\n",
    "    data.anchor_mask = anchor_mask\n",
    "    data.unknown_mask = unknown_mask\n",
    "\n",
    "    data_list.append(data)"
   ]
  },
  {
   "cell_type": "code",
   "execution_count": 13,
   "metadata": {},
   "outputs": [
    {
     "name": "stderr",
     "output_type": "stream",
     "text": [
      "C:\\Users\\kazuya\\AppData\\Local\\Packages\\PythonSoftwareFoundation.Python.3.10_qbz5n2kfra8p0\\LocalCache\\local-packages\\Python310\\site-packages\\torch_geometric\\deprecation.py:26: UserWarning: 'data.DataLoader' is deprecated, use 'loader.DataLoader' instead\n",
      "  warnings.warn(out)\n"
     ]
    }
   ],
   "source": [
    "# # %% Normalize features using StandardScaler\n",
    "# all_features = torch.cat([data.x for data in data_list], dim=0).numpy()\n",
    "# scaler = StandardScaler()\n",
    "# scaler.fit(all_features)\n",
    "\n",
    "# for data in data_list:\n",
    "#     data.x = torch.tensor(scaler.transform(data.x.numpy()), dtype=torch.float)\n",
    "# Collect features from anchor nodes only for fitting the scaler\n",
    "all_anchor_features = torch.cat([data.x[data.anchor_mask] for data in data_list], dim=0).numpy()\n",
    "scaler = StandardScaler()\n",
    "scaler.fit(all_anchor_features)\n",
    "\n",
    "# Apply the scaler to all data\n",
    "for data in data_list:\n",
    "    data.x = torch.tensor(scaler.transform(data.x.numpy()), dtype=torch.float)\n",
    "\n",
    "# %% Create DataLoader\n",
    "train_loader = DataLoader(data_list, batch_size=2, shuffle=True)"
   ]
  },
  {
   "cell_type": "code",
   "execution_count": 14,
   "metadata": {},
   "outputs": [],
   "source": [
    "# %% Define GCN model\n",
    "class EdgeFeatureNet(torch.nn.Module):\n",
    "    def __init__(self, input_dim, output_dim):\n",
    "        super(EdgeFeatureNet, self).__init__()\n",
    "        self.net = Sequential(\n",
    "            Linear(input_dim, 64),\n",
    "            torch.nn.ReLU(),\n",
    "            Linear(64, output_dim)\n",
    "        )\n",
    "    \n",
    "    def forward(self, x):\n",
    "        return self.net(x)\n",
    "\n",
    "class GCN(torch.nn.Module):\n",
    "    def __init__(self, input_dim, hidden_dim, output_dim, edge_feature_dim, num_measurements):\n",
    "        super(GCN, self).__init__()\n",
    "        # Edge feature network to process time-series edge attributes\n",
    "        self.edge_net = EdgeFeatureNet(num_measurements, edge_feature_dim)\n",
    "        \n",
    "        # Edge networks for NNConv layers\n",
    "        nn1 = Sequential(Linear(edge_feature_dim, hidden_dim * input_dim))\n",
    "        self.conv1 = NNConv(input_dim, hidden_dim, nn1, aggr='mean')\n",
    "        \n",
    "        nn2 = Sequential(Linear(edge_feature_dim, hidden_dim * hidden_dim))\n",
    "        self.conv2 = NNConv(hidden_dim, hidden_dim, nn2, aggr='mean')\n",
    "        \n",
    "        self.fc = Linear(hidden_dim, output_dim)\n",
    "        \n",
    "        # Projection layers for anchor nodes\n",
    "        self.anchor_proj1 = Linear(input_dim, hidden_dim)\n",
    "        self.anchor_proj2 = Linear(hidden_dim, hidden_dim)\n",
    "    \n",
    "    def forward(self, x, edge_index, edge_attr, anchor_mask):\n",
    "        # Process edge attributes using EdgeFeatureNet\n",
    "        edge_attr_processed = self.edge_net(edge_attr)\n",
    "        \n",
    "        # Save the original features of anchor nodes\n",
    "        x_anchor = x[anchor_mask]\n",
    "        \n",
    "        # First GNN layer\n",
    "        x = self.conv1(x, edge_index, edge_attr_processed)\n",
    "        x = F.relu(x)\n",
    "        \n",
    "        # Project anchor nodes' features to match the hidden dimension\n",
    "        x_anchor_proj = self.anchor_proj1(x_anchor)\n",
    "        \n",
    "        # Create a full-sized tensor for x_anchor_proj\n",
    "        x_anchor_proj_full = x.clone()\n",
    "        x_anchor_proj_full[anchor_mask] = x_anchor_proj\n",
    "        \n",
    "        # Combine the projected anchor features with the updated features\n",
    "        x = torch.where(anchor_mask.unsqueeze(1), x_anchor_proj_full, x)\n",
    "        \n",
    "        # Save the features of anchor nodes after the first layer\n",
    "        x_anchor = x[anchor_mask]\n",
    "        \n",
    "        # Second GNN layer\n",
    "        x = self.conv2(x, edge_index, edge_attr_processed)\n",
    "        x = F.relu(x)\n",
    "        \n",
    "        # Project anchor nodes' features to match the hidden dimension\n",
    "        x_anchor_proj = self.anchor_proj2(x_anchor)\n",
    "        \n",
    "        # Create a full-sized tensor for x_anchor_proj\n",
    "        x_anchor_proj_full = x.clone()\n",
    "        x_anchor_proj_full[anchor_mask] = x_anchor_proj\n",
    "        \n",
    "        # Combine the anchor features with the updated features\n",
    "        x = torch.where(anchor_mask.unsqueeze(1), x_anchor_proj_full, x)\n",
    "        \n",
    "        # Final fully connected layer\n",
    "        x = self.fc(x)\n",
    "        return x"
   ]
  },
  {
   "cell_type": "code",
   "execution_count": 15,
   "metadata": {},
   "outputs": [],
   "source": [
    "# %% Instantiate model and optimizer\n",
    "input_dim = data_list[0].x.shape[1]  # Adjust input dimension based on node features\n",
    "hidden_dim = 64  # Adjust as needed\n",
    "output_dim = 2   # Predicting x and y coordinates\n",
    "edge_feature_dim = 32  # Adjust as needed\n",
    "\n",
    "model = GCN(input_dim=input_dim, hidden_dim=hidden_dim, output_dim=output_dim, edge_feature_dim=edge_feature_dim, num_measurements=10).to(device)\n",
    "optimizer = torch.optim.Adam(model.parameters(), lr=0.01, weight_decay=1e-5)\n"
   ]
  },
  {
   "cell_type": "code",
   "execution_count": 16,
   "metadata": {},
   "outputs": [
    {
     "name": "stderr",
     "output_type": "stream",
     "text": [
      "Training Epoch 1: 100%|██████████| 500/500 [00:03<00:00, 159.39it/s]\n"
     ]
    },
    {
     "name": "stdout",
     "output_type": "stream",
     "text": [
      "Epoch 1, Loss: 6365302241.5014\n"
     ]
    },
    {
     "name": "stderr",
     "output_type": "stream",
     "text": [
      "Training Epoch 2: 100%|██████████| 500/500 [00:02<00:00, 170.76it/s]\n"
     ]
    },
    {
     "name": "stdout",
     "output_type": "stream",
     "text": [
      "Epoch 2, Loss: 18157.4486\n"
     ]
    },
    {
     "name": "stderr",
     "output_type": "stream",
     "text": [
      "Training Epoch 3: 100%|██████████| 500/500 [00:03<00:00, 165.71it/s]\n"
     ]
    },
    {
     "name": "stdout",
     "output_type": "stream",
     "text": [
      "Epoch 3, Loss: 1653.3647\n"
     ]
    },
    {
     "name": "stderr",
     "output_type": "stream",
     "text": [
      "Training Epoch 4: 100%|██████████| 500/500 [00:02<00:00, 176.31it/s]\n"
     ]
    },
    {
     "name": "stdout",
     "output_type": "stream",
     "text": [
      "Epoch 4, Loss: 22.1571\n"
     ]
    },
    {
     "name": "stderr",
     "output_type": "stream",
     "text": [
      "Training Epoch 5: 100%|██████████| 500/500 [00:02<00:00, 176.51it/s]\n"
     ]
    },
    {
     "name": "stdout",
     "output_type": "stream",
     "text": [
      "Epoch 5, Loss: 16.0276\n"
     ]
    },
    {
     "name": "stderr",
     "output_type": "stream",
     "text": [
      "Training Epoch 6: 100%|██████████| 500/500 [00:02<00:00, 170.61it/s]\n"
     ]
    },
    {
     "name": "stdout",
     "output_type": "stream",
     "text": [
      "Epoch 6, Loss: 15.2546\n"
     ]
    },
    {
     "name": "stderr",
     "output_type": "stream",
     "text": [
      "Training Epoch 7: 100%|██████████| 500/500 [00:02<00:00, 170.35it/s]\n"
     ]
    },
    {
     "name": "stdout",
     "output_type": "stream",
     "text": [
      "Epoch 7, Loss: 17.5582\n"
     ]
    },
    {
     "name": "stderr",
     "output_type": "stream",
     "text": [
      "Training Epoch 8: 100%|██████████| 500/500 [00:02<00:00, 172.20it/s]\n"
     ]
    },
    {
     "name": "stdout",
     "output_type": "stream",
     "text": [
      "Epoch 8, Loss: 18.1645\n"
     ]
    },
    {
     "name": "stderr",
     "output_type": "stream",
     "text": [
      "Training Epoch 9: 100%|██████████| 500/500 [00:02<00:00, 167.52it/s]\n"
     ]
    },
    {
     "name": "stdout",
     "output_type": "stream",
     "text": [
      "Epoch 9, Loss: 20.1935\n"
     ]
    },
    {
     "name": "stderr",
     "output_type": "stream",
     "text": [
      "Training Epoch 10:  67%|██████▋   | 336/500 [00:02<00:00, 167.03it/s]\n"
     ]
    },
    {
     "ename": "KeyboardInterrupt",
     "evalue": "",
     "output_type": "error",
     "traceback": [
      "\u001b[1;31m---------------------------------------------------------------------------\u001b[0m",
      "\u001b[1;31mKeyboardInterrupt\u001b[0m                         Traceback (most recent call last)",
      "Input \u001b[1;32mIn [16]\u001b[0m, in \u001b[0;36m<cell line: 5>\u001b[1;34m()\u001b[0m\n\u001b[0;32m      9\u001b[0m data \u001b[38;5;241m=\u001b[39m data\u001b[38;5;241m.\u001b[39mto(device)\n\u001b[0;32m     10\u001b[0m optimizer\u001b[38;5;241m.\u001b[39mzero_grad()\n\u001b[1;32m---> 11\u001b[0m out \u001b[38;5;241m=\u001b[39m \u001b[43mmodel\u001b[49m\u001b[43m(\u001b[49m\u001b[43mdata\u001b[49m\u001b[38;5;241;43m.\u001b[39;49m\u001b[43mx\u001b[49m\u001b[43m,\u001b[49m\u001b[43m \u001b[49m\u001b[43mdata\u001b[49m\u001b[38;5;241;43m.\u001b[39;49m\u001b[43medge_index\u001b[49m\u001b[43m,\u001b[49m\u001b[43m \u001b[49m\u001b[43mdata\u001b[49m\u001b[38;5;241;43m.\u001b[39;49m\u001b[43medge_attr\u001b[49m\u001b[43m,\u001b[49m\u001b[43m \u001b[49m\u001b[43mdata\u001b[49m\u001b[38;5;241;43m.\u001b[39;49m\u001b[43manchor_mask\u001b[49m\u001b[43m)\u001b[49m\n\u001b[0;32m     13\u001b[0m \u001b[38;5;66;03m# Compute loss only for unknown nodes\u001b[39;00m\n\u001b[0;32m     14\u001b[0m loss \u001b[38;5;241m=\u001b[39m F\u001b[38;5;241m.\u001b[39mmse_loss(out[data\u001b[38;5;241m.\u001b[39munknown_mask], data\u001b[38;5;241m.\u001b[39my[data\u001b[38;5;241m.\u001b[39munknown_mask])\n",
      "File \u001b[1;32m~\\AppData\\Local\\Packages\\PythonSoftwareFoundation.Python.3.10_qbz5n2kfra8p0\\LocalCache\\local-packages\\Python310\\site-packages\\torch\\nn\\modules\\module.py:1566\u001b[0m, in \u001b[0;36mModule._wrapped_call_impl\u001b[1;34m(self, *args, **kwargs)\u001b[0m\n\u001b[0;32m   1564\u001b[0m     \u001b[38;5;28;01mreturn\u001b[39;00m \u001b[38;5;28mself\u001b[39m\u001b[38;5;241m.\u001b[39m_compiled_call_impl(\u001b[38;5;241m*\u001b[39margs, \u001b[38;5;241m*\u001b[39m\u001b[38;5;241m*\u001b[39mkwargs)  \u001b[38;5;66;03m# type: ignore[misc]\u001b[39;00m\n\u001b[0;32m   1565\u001b[0m \u001b[38;5;28;01melse\u001b[39;00m:\n\u001b[1;32m-> 1566\u001b[0m     \u001b[38;5;28;01mreturn\u001b[39;00m \u001b[38;5;28mself\u001b[39m\u001b[38;5;241m.\u001b[39m_call_impl(\u001b[38;5;241m*\u001b[39margs, \u001b[38;5;241m*\u001b[39m\u001b[38;5;241m*\u001b[39mkwargs)\n",
      "File \u001b[1;32m~\\AppData\\Local\\Packages\\PythonSoftwareFoundation.Python.3.10_qbz5n2kfra8p0\\LocalCache\\local-packages\\Python310\\site-packages\\torch\\nn\\modules\\module.py:1575\u001b[0m, in \u001b[0;36mModule._call_impl\u001b[1;34m(self, *args, **kwargs)\u001b[0m\n\u001b[0;32m   1570\u001b[0m \u001b[38;5;66;03m# If we don't have any hooks, we want to skip the rest of the logic in\u001b[39;00m\n\u001b[0;32m   1571\u001b[0m \u001b[38;5;66;03m# this function, and just call forward.\u001b[39;00m\n\u001b[0;32m   1572\u001b[0m \u001b[38;5;28;01mif\u001b[39;00m \u001b[38;5;129;01mnot\u001b[39;00m (\u001b[38;5;28mself\u001b[39m\u001b[38;5;241m.\u001b[39m_backward_hooks \u001b[38;5;129;01mor\u001b[39;00m \u001b[38;5;28mself\u001b[39m\u001b[38;5;241m.\u001b[39m_backward_pre_hooks \u001b[38;5;129;01mor\u001b[39;00m \u001b[38;5;28mself\u001b[39m\u001b[38;5;241m.\u001b[39m_forward_hooks \u001b[38;5;129;01mor\u001b[39;00m \u001b[38;5;28mself\u001b[39m\u001b[38;5;241m.\u001b[39m_forward_pre_hooks\n\u001b[0;32m   1573\u001b[0m         \u001b[38;5;129;01mor\u001b[39;00m _global_backward_pre_hooks \u001b[38;5;129;01mor\u001b[39;00m _global_backward_hooks\n\u001b[0;32m   1574\u001b[0m         \u001b[38;5;129;01mor\u001b[39;00m _global_forward_hooks \u001b[38;5;129;01mor\u001b[39;00m _global_forward_pre_hooks):\n\u001b[1;32m-> 1575\u001b[0m     \u001b[38;5;28;01mreturn\u001b[39;00m forward_call(\u001b[38;5;241m*\u001b[39margs, \u001b[38;5;241m*\u001b[39m\u001b[38;5;241m*\u001b[39mkwargs)\n\u001b[0;32m   1577\u001b[0m \u001b[38;5;28;01mtry\u001b[39;00m:\n\u001b[0;32m   1578\u001b[0m     result \u001b[38;5;241m=\u001b[39m \u001b[38;5;28;01mNone\u001b[39;00m\n",
      "Input \u001b[1;32mIn [14]\u001b[0m, in \u001b[0;36mGCN.forward\u001b[1;34m(self, x, edge_index, edge_attr, anchor_mask)\u001b[0m\n\u001b[0;32m     55\u001b[0m x_anchor \u001b[38;5;241m=\u001b[39m x[anchor_mask]\n\u001b[0;32m     57\u001b[0m \u001b[38;5;66;03m# Second GNN layer\u001b[39;00m\n\u001b[1;32m---> 58\u001b[0m x \u001b[38;5;241m=\u001b[39m \u001b[38;5;28;43mself\u001b[39;49m\u001b[38;5;241;43m.\u001b[39;49m\u001b[43mconv2\u001b[49m\u001b[43m(\u001b[49m\u001b[43mx\u001b[49m\u001b[43m,\u001b[49m\u001b[43m \u001b[49m\u001b[43medge_index\u001b[49m\u001b[43m,\u001b[49m\u001b[43m \u001b[49m\u001b[43medge_attr_processed\u001b[49m\u001b[43m)\u001b[49m\n\u001b[0;32m     59\u001b[0m x \u001b[38;5;241m=\u001b[39m F\u001b[38;5;241m.\u001b[39mrelu(x)\n\u001b[0;32m     61\u001b[0m \u001b[38;5;66;03m# Project anchor nodes' features to match the hidden dimension\u001b[39;00m\n",
      "File \u001b[1;32m~\\AppData\\Local\\Packages\\PythonSoftwareFoundation.Python.3.10_qbz5n2kfra8p0\\LocalCache\\local-packages\\Python310\\site-packages\\torch\\nn\\modules\\module.py:1566\u001b[0m, in \u001b[0;36mModule._wrapped_call_impl\u001b[1;34m(self, *args, **kwargs)\u001b[0m\n\u001b[0;32m   1564\u001b[0m     \u001b[38;5;28;01mreturn\u001b[39;00m \u001b[38;5;28mself\u001b[39m\u001b[38;5;241m.\u001b[39m_compiled_call_impl(\u001b[38;5;241m*\u001b[39margs, \u001b[38;5;241m*\u001b[39m\u001b[38;5;241m*\u001b[39mkwargs)  \u001b[38;5;66;03m# type: ignore[misc]\u001b[39;00m\n\u001b[0;32m   1565\u001b[0m \u001b[38;5;28;01melse\u001b[39;00m:\n\u001b[1;32m-> 1566\u001b[0m     \u001b[38;5;28;01mreturn\u001b[39;00m \u001b[38;5;28mself\u001b[39m\u001b[38;5;241m.\u001b[39m_call_impl(\u001b[38;5;241m*\u001b[39margs, \u001b[38;5;241m*\u001b[39m\u001b[38;5;241m*\u001b[39mkwargs)\n",
      "File \u001b[1;32m~\\AppData\\Local\\Packages\\PythonSoftwareFoundation.Python.3.10_qbz5n2kfra8p0\\LocalCache\\local-packages\\Python310\\site-packages\\torch\\nn\\modules\\module.py:1575\u001b[0m, in \u001b[0;36mModule._call_impl\u001b[1;34m(self, *args, **kwargs)\u001b[0m\n\u001b[0;32m   1570\u001b[0m \u001b[38;5;66;03m# If we don't have any hooks, we want to skip the rest of the logic in\u001b[39;00m\n\u001b[0;32m   1571\u001b[0m \u001b[38;5;66;03m# this function, and just call forward.\u001b[39;00m\n\u001b[0;32m   1572\u001b[0m \u001b[38;5;28;01mif\u001b[39;00m \u001b[38;5;129;01mnot\u001b[39;00m (\u001b[38;5;28mself\u001b[39m\u001b[38;5;241m.\u001b[39m_backward_hooks \u001b[38;5;129;01mor\u001b[39;00m \u001b[38;5;28mself\u001b[39m\u001b[38;5;241m.\u001b[39m_backward_pre_hooks \u001b[38;5;129;01mor\u001b[39;00m \u001b[38;5;28mself\u001b[39m\u001b[38;5;241m.\u001b[39m_forward_hooks \u001b[38;5;129;01mor\u001b[39;00m \u001b[38;5;28mself\u001b[39m\u001b[38;5;241m.\u001b[39m_forward_pre_hooks\n\u001b[0;32m   1573\u001b[0m         \u001b[38;5;129;01mor\u001b[39;00m _global_backward_pre_hooks \u001b[38;5;129;01mor\u001b[39;00m _global_backward_hooks\n\u001b[0;32m   1574\u001b[0m         \u001b[38;5;129;01mor\u001b[39;00m _global_forward_hooks \u001b[38;5;129;01mor\u001b[39;00m _global_forward_pre_hooks):\n\u001b[1;32m-> 1575\u001b[0m     \u001b[38;5;28;01mreturn\u001b[39;00m forward_call(\u001b[38;5;241m*\u001b[39margs, \u001b[38;5;241m*\u001b[39m\u001b[38;5;241m*\u001b[39mkwargs)\n\u001b[0;32m   1577\u001b[0m \u001b[38;5;28;01mtry\u001b[39;00m:\n\u001b[0;32m   1578\u001b[0m     result \u001b[38;5;241m=\u001b[39m \u001b[38;5;28;01mNone\u001b[39;00m\n",
      "File \u001b[1;32m~\\AppData\\Local\\Packages\\PythonSoftwareFoundation.Python.3.10_qbz5n2kfra8p0\\LocalCache\\local-packages\\Python310\\site-packages\\torch_geometric\\nn\\conv\\nn_conv.py:108\u001b[0m, in \u001b[0;36mNNConv.forward\u001b[1;34m(self, x, edge_index, edge_attr, size)\u001b[0m\n\u001b[0;32m    105\u001b[0m     x \u001b[38;5;241m=\u001b[39m (x, x)\n\u001b[0;32m    107\u001b[0m \u001b[38;5;66;03m# propagate_type: (x: OptPairTensor, edge_attr: OptTensor)\u001b[39;00m\n\u001b[1;32m--> 108\u001b[0m out \u001b[38;5;241m=\u001b[39m \u001b[38;5;28;43mself\u001b[39;49m\u001b[38;5;241;43m.\u001b[39;49m\u001b[43mpropagate\u001b[49m\u001b[43m(\u001b[49m\u001b[43medge_index\u001b[49m\u001b[43m,\u001b[49m\u001b[43m \u001b[49m\u001b[43mx\u001b[49m\u001b[38;5;241;43m=\u001b[39;49m\u001b[43mx\u001b[49m\u001b[43m,\u001b[49m\u001b[43m \u001b[49m\u001b[43medge_attr\u001b[49m\u001b[38;5;241;43m=\u001b[39;49m\u001b[43medge_attr\u001b[49m\u001b[43m,\u001b[49m\u001b[43m \u001b[49m\u001b[43msize\u001b[49m\u001b[38;5;241;43m=\u001b[39;49m\u001b[43msize\u001b[49m\u001b[43m)\u001b[49m\n\u001b[0;32m    110\u001b[0m x_r \u001b[38;5;241m=\u001b[39m x[\u001b[38;5;241m1\u001b[39m]\n\u001b[0;32m    111\u001b[0m \u001b[38;5;28;01mif\u001b[39;00m x_r \u001b[38;5;129;01mis\u001b[39;00m \u001b[38;5;129;01mnot\u001b[39;00m \u001b[38;5;28;01mNone\u001b[39;00m \u001b[38;5;129;01mand\u001b[39;00m \u001b[38;5;28mself\u001b[39m\u001b[38;5;241m.\u001b[39mroot_weight:\n",
      "File \u001b[1;32m~\\AppData\\Local\\Temp\\torch_geometric.nn.conv.nn_conv_NNConv_propagate_5bffx9a2.py:182\u001b[0m, in \u001b[0;36mpropagate\u001b[1;34m(self, edge_index, x, edge_attr, size)\u001b[0m\n\u001b[0;32m    173\u001b[0m             kwargs \u001b[38;5;241m=\u001b[39m CollectArgs(\n\u001b[0;32m    174\u001b[0m                 x_j\u001b[38;5;241m=\u001b[39mhook_kwargs[\u001b[38;5;124m'\u001b[39m\u001b[38;5;124mx_j\u001b[39m\u001b[38;5;124m'\u001b[39m],\n\u001b[0;32m    175\u001b[0m                 edge_attr\u001b[38;5;241m=\u001b[39mhook_kwargs[\u001b[38;5;124m'\u001b[39m\u001b[38;5;124medge_attr\u001b[39m\u001b[38;5;124m'\u001b[39m],\n\u001b[1;32m   (...)\u001b[0m\n\u001b[0;32m    178\u001b[0m                 dim_size\u001b[38;5;241m=\u001b[39mkwargs\u001b[38;5;241m.\u001b[39mdim_size,\n\u001b[0;32m    179\u001b[0m             )\n\u001b[0;32m    180\u001b[0m \u001b[38;5;66;03m# End Message Forward Pre Hook #########################################\u001b[39;00m\n\u001b[1;32m--> 182\u001b[0m out \u001b[38;5;241m=\u001b[39m \u001b[38;5;28;43mself\u001b[39;49m\u001b[38;5;241;43m.\u001b[39;49m\u001b[43mmessage\u001b[49m\u001b[43m(\u001b[49m\n\u001b[0;32m    183\u001b[0m \u001b[43m    \u001b[49m\u001b[43mx_j\u001b[49m\u001b[38;5;241;43m=\u001b[39;49m\u001b[43mkwargs\u001b[49m\u001b[38;5;241;43m.\u001b[39;49m\u001b[43mx_j\u001b[49m\u001b[43m,\u001b[49m\n\u001b[0;32m    184\u001b[0m \u001b[43m    \u001b[49m\u001b[43medge_attr\u001b[49m\u001b[38;5;241;43m=\u001b[39;49m\u001b[43mkwargs\u001b[49m\u001b[38;5;241;43m.\u001b[39;49m\u001b[43medge_attr\u001b[49m\u001b[43m,\u001b[49m\n\u001b[0;32m    185\u001b[0m \u001b[43m\u001b[49m\u001b[43m)\u001b[49m\n\u001b[0;32m    187\u001b[0m \u001b[38;5;66;03m# Begin Message Forward Hook ###########################################\u001b[39;00m\n\u001b[0;32m    188\u001b[0m \u001b[38;5;28;01mif\u001b[39;00m \u001b[38;5;129;01mnot\u001b[39;00m torch\u001b[38;5;241m.\u001b[39mjit\u001b[38;5;241m.\u001b[39mis_scripting() \u001b[38;5;129;01mand\u001b[39;00m \u001b[38;5;129;01mnot\u001b[39;00m is_compiling():\n",
      "File \u001b[1;32m~\\AppData\\Local\\Packages\\PythonSoftwareFoundation.Python.3.10_qbz5n2kfra8p0\\LocalCache\\local-packages\\Python310\\site-packages\\torch_geometric\\nn\\conv\\nn_conv.py:122\u001b[0m, in \u001b[0;36mNNConv.message\u001b[1;34m(self, x_j, edge_attr)\u001b[0m\n\u001b[0;32m    120\u001b[0m weight \u001b[38;5;241m=\u001b[39m \u001b[38;5;28mself\u001b[39m\u001b[38;5;241m.\u001b[39mnn(edge_attr)\n\u001b[0;32m    121\u001b[0m weight \u001b[38;5;241m=\u001b[39m weight\u001b[38;5;241m.\u001b[39mview(\u001b[38;5;241m-\u001b[39m\u001b[38;5;241m1\u001b[39m, \u001b[38;5;28mself\u001b[39m\u001b[38;5;241m.\u001b[39min_channels_l, \u001b[38;5;28mself\u001b[39m\u001b[38;5;241m.\u001b[39mout_channels)\n\u001b[1;32m--> 122\u001b[0m \u001b[38;5;28;01mreturn\u001b[39;00m \u001b[43mtorch\u001b[49m\u001b[38;5;241;43m.\u001b[39;49m\u001b[43mmatmul\u001b[49m\u001b[43m(\u001b[49m\u001b[43mx_j\u001b[49m\u001b[38;5;241;43m.\u001b[39;49m\u001b[43munsqueeze\u001b[49m\u001b[43m(\u001b[49m\u001b[38;5;241;43m1\u001b[39;49m\u001b[43m)\u001b[49m\u001b[43m,\u001b[49m\u001b[43m \u001b[49m\u001b[43mweight\u001b[49m\u001b[43m)\u001b[49m\u001b[38;5;241m.\u001b[39msqueeze(\u001b[38;5;241m1\u001b[39m)\n",
      "\u001b[1;31mKeyboardInterrupt\u001b[0m: "
     ]
    }
   ],
   "source": [
    "# %% Training loop\n",
    "model.train()\n",
    "loss_history = []\n",
    "\n",
    "for epoch in range(50):\n",
    "    total_loss = 0\n",
    "\n",
    "    for data in tqdm(train_loader, desc=f\"Training Epoch {epoch+1}\"):\n",
    "        data = data.to(device)\n",
    "        optimizer.zero_grad()\n",
    "        out = model(data.x, data.edge_index, data.edge_attr, data.anchor_mask)\n",
    "\n",
    "        # Compute loss only for unknown nodes\n",
    "        loss = F.mse_loss(out[data.unknown_mask], data.y[data.unknown_mask])\n",
    "        loss.backward()\n",
    "        optimizer.step()\n",
    "        \n",
    "        total_loss += loss.item()\n",
    "    \n",
    "    avg_loss = total_loss / len(train_loader)\n",
    "    loss_history.append(avg_loss)\n",
    "    print(f'Epoch {epoch+1}, Loss: {avg_loss:.4f}')"
   ]
  },
  {
   "cell_type": "code",
   "execution_count": 8,
   "metadata": {},
   "outputs": [
    {
     "data": {
      "image/png": "[encoded data removed]",
      "text/plain": [
       "<Figure size 432x288 with 1 Axes>"
      ]
     },
     "metadata": {
      "needs_background": "light"
     },
     "output_type": "display_data"
    }
   ],
   "source": [
    "# %% Plot training loss\n",
    "plt.plot(loss_history)\n",
    "plt.xlabel('Epoch')\n",
    "plt.ylabel('Loss')\n",
    "plt.title('Training Loss')\n",
    "plt.show()"
   ]
  },
  {
   "cell_type": "code",
   "execution_count": 9,
   "metadata": {},
   "outputs": [
    {
     "name": "stderr",
     "output_type": "stream",
     "text": [
      "C:\\Users\\kazuya\\AppData\\Local\\Packages\\PythonSoftwareFoundation.Python.3.10_qbz5n2kfra8p0\\LocalCache\\local-packages\\Python310\\site-packages\\torch_geometric\\deprecation.py:26: UserWarning: 'data.DataLoader' is deprecated, use 'loader.DataLoader' instead\n",
      "  warnings.warn(out)\n",
      "Testing GCN: 100%|██████████| 1000/1000 [00:03<00:00, 302.87it/s]\n"
     ]
    },
    {
     "data": {
      "image/png": "[encoded data removed]",
      "text/plain": [
       "<Figure size 864x432 with 1 Axes>"
      ]
     },
     "metadata": {},
     "output_type": "display_data"
    },
    {
     "name": "stdout",
     "output_type": "stream",
     "text": [
      "GCN Mean Error: 1033509.6860 meters, Median Error: 962977.3276 meters\n"
     ]
    },
    {
     "data": {
      "image/png": "[encoded data removed]",
      "text/plain": [
       "<Figure size 864x432 with 1 Axes>"
      ]
     },
     "metadata": {},
     "output_type": "display_data"
    }
   ],
   "source": [
    "# %% Evaluation and Visualization of GCN Results\n",
    "from geopy.distance import geodesic\n",
    "\n",
    "model.eval()\n",
    "errors_gcn = []\n",
    "\n",
    "# Create test DataLoader\n",
    "test_loader = DataLoader(data_list, batch_size=1, shuffle=False)\n",
    "\n",
    "with torch.no_grad():\n",
    "    for data in tqdm(test_loader, desc=\"Testing GCN\"):\n",
    "        data = data.to(device)\n",
    "        out = model(data.x, data.edge_index, data.edge_attr, data.anchor_mask)\n",
    "        predicted_positions = out.cpu().numpy()\n",
    "        true_positions = data.y.cpu().numpy()\n",
    "\n",
    "        # Overwrite anchor nodes' positions with true positions (since anchors are known)\n",
    "        predicted_positions[data.anchor_mask.cpu()] = true_positions[data.anchor_mask.cpu()]\n",
    "\n",
    "        # Calculate estimation errors for unknown nodes using Haversine distance\n",
    "        for idx in range(true_positions.shape[0]):\n",
    "            if data.unknown_mask[idx]:  # Only for unknown nodes\n",
    "                true_pos = (true_positions[idx][0], true_positions[idx][1])\n",
    "                pred_pos = (predicted_positions[idx][0], predicted_positions[idx][1])\n",
    "                error = geodesic(true_pos, pred_pos).meters\n",
    "                errors_gcn.append(error)\n",
    "\n",
    "# %% Convert errors to numpy arrays\n",
    "errors_gcn = np.array(errors_gcn)\n",
    "\n",
    "# Plot error distributions\n",
    "plt.figure(figsize=(12, 6), facecolor='white')\n",
    "\n",
    "plt.hist(errors_gcn, bins=20, alpha=0.7, label='GCN Errors', color='skyblue')\n",
    "plt.xlabel('Localization Error (meters)')\n",
    "plt.ylabel('Number of Nodes')\n",
    "plt.title('Error Distribution for GCN on Test Data')\n",
    "plt.legend()\n",
    "plt.show()\n",
    "\n",
    "# Print mean and median errors\n",
    "print(f\"GCN Mean Error: {errors_gcn.mean():.4f} meters, Median Error: {np.median(errors_gcn):.4f} meters\")\n",
    "\n",
    "# %% Visualization: Ground Truth vs. Predicted Positions\n",
    "sample_data = data_list[0]  # Get a sample test graph for visualization\n",
    "sample_data = sample_data.to(device)\n",
    "\n",
    "with torch.no_grad():\n",
    "    out = model(sample_data.x, sample_data.edge_index, sample_data.edge_attr, sample_data.anchor_mask)\n",
    "    predicted_positions = out.cpu().numpy()\n",
    "    true_positions = sample_data.y.cpu().numpy()\n",
    "\n",
    "# Overwrite anchor nodes' positions with true positions (since anchors are known)\n",
    "predicted_positions[sample_data.anchor_mask.cpu()] = true_positions[sample_data.anchor_mask.cpu()]\n",
    "\n",
    "# Plotting\n",
    "plt.figure(figsize=(12, 6), facecolor='white')\n",
    "\n",
    "# Ground truth positions\n",
    "plt.scatter(true_positions[sample_data.unknown_mask.cpu(), 0], true_positions[sample_data.unknown_mask.cpu(), 1], \n",
    "            c='blue', label='True Unknown Node Positions', alpha=0.6)\n",
    "\n",
    "# Predicted positions\n",
    "plt.scatter(predicted_positions[sample_data.unknown_mask.cpu(), 0], predicted_positions[sample_data.unknown_mask.cpu(), 1], \n",
    "            c='red', label='Predicted Unknown Node Positions (GCN)', alpha=0.6)\n",
    "\n",
    "# Anchor positions\n",
    "plt.scatter(true_positions[sample_data.anchor_mask.cpu(), 0], true_positions[sample_data.anchor_mask.cpu(), 1], \n",
    "            c='green', label='Anchor Nodes', marker='^', s=100)\n",
    "\n",
    "plt.legend()\n",
    "plt.xlabel('Latitude')\n",
    "plt.ylabel('Longitude')\n",
    "plt.title('Comparison of True vs. Predicted Node Positions')\n",
    "plt.grid(True)\n",
    "plt.show()\n"
   ]
  },
  {
   "cell_type": "code",
   "execution_count": null,
   "metadata": {},
   "outputs": [],
   "source": []
  }
 ],
 "metadata": {
  "kernelspec": {
   "display_name": "Python 3",
   "language": "python",
   "name": "python3"
  },
  "language_info": {
   "codemirror_mode": {
    "name": "ipython",
    "version": 3
   },
   "file_extension": ".py",
   "mimetype": "text/x-python",
   "name": "python",
   "nbconvert_exporter": "python",
   "pygments_lexer": "ipython3",
   "version": "3.10.11"
  }
 },
 "nbformat": 4,
 "nbformat_minor": 2
}
