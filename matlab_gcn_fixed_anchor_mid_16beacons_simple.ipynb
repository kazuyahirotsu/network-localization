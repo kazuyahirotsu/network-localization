{
 "cells": [
  {
   "cell_type": "code",
   "execution_count": 3,
   "metadata": {},
   "outputs": [
    {
     "name": "stdout",
     "output_type": "stream",
     "text": [
      "Using device: cuda\n"
     ]
    },
    {
     "name": "stderr",
     "output_type": "stream",
     "text": [
      "Loading MATLAB data:   0%|          | 0/1000 [00:00<?, ?it/s]"
     ]
    },
    {
     "name": "stderr",
     "output_type": "stream",
     "text": [
      "Loading MATLAB data: 100%|██████████| 1000/1000 [00:02<00:00, 446.26it/s]\n"
     ]
    },
    {
     "data": {
      "image/png": "[encoded data removed]",
      "text/plain": [
       "<Figure size 720x432 with 1 Axes>"
      ]
     },
     "metadata": {
      "needs_background": "light"
     },
     "output_type": "display_data"
    },
    {
     "name": "stderr",
     "output_type": "stream",
     "text": [
      "C:\\Users\\kazuya\\AppData\\Local\\Packages\\PythonSoftwareFoundation.Python.3.10_qbz5n2kfra8p0\\LocalCache\\local-packages\\Python310\\site-packages\\torch_geometric\\deprecation.py:26: UserWarning: 'data.DataLoader' is deprecated, use 'loader.DataLoader' instead\n",
      "  warnings.warn(out)\n",
      "Training Epoch 1: 100%|██████████| 500/500 [00:10<00:00, 47.91it/s]\n"
     ]
    },
    {
     "name": "stdout",
     "output_type": "stream",
     "text": [
      "Epoch 1, Loss: 1692873460156.4146\n"
     ]
    },
    {
     "name": "stderr",
     "output_type": "stream",
     "text": [
      "Training Epoch 2: 100%|██████████| 500/500 [00:10<00:00, 47.65it/s]\n"
     ]
    },
    {
     "name": "stdout",
     "output_type": "stream",
     "text": [
      "Epoch 2, Loss: 1353861.5241\n"
     ]
    },
    {
     "name": "stderr",
     "output_type": "stream",
     "text": [
      "Training Epoch 3: 100%|██████████| 500/500 [00:10<00:00, 47.09it/s]\n"
     ]
    },
    {
     "name": "stdout",
     "output_type": "stream",
     "text": [
      "Epoch 3, Loss: 1359703.9559\n"
     ]
    },
    {
     "name": "stderr",
     "output_type": "stream",
     "text": [
      "Training Epoch 4: 100%|██████████| 500/500 [00:10<00:00, 46.75it/s]\n"
     ]
    },
    {
     "name": "stdout",
     "output_type": "stream",
     "text": [
      "Epoch 4, Loss: 1371027.7339\n"
     ]
    },
    {
     "name": "stderr",
     "output_type": "stream",
     "text": [
      "Training Epoch 5: 100%|██████████| 500/500 [00:10<00:00, 47.60it/s]\n"
     ]
    },
    {
     "name": "stdout",
     "output_type": "stream",
     "text": [
      "Epoch 5, Loss: 1375175.0096\n"
     ]
    },
    {
     "name": "stderr",
     "output_type": "stream",
     "text": [
      "Training Epoch 6: 100%|██████████| 500/500 [00:10<00:00, 47.21it/s]\n"
     ]
    },
    {
     "name": "stdout",
     "output_type": "stream",
     "text": [
      "Epoch 6, Loss: 1415892.9435\n"
     ]
    },
    {
     "name": "stderr",
     "output_type": "stream",
     "text": [
      "Training Epoch 7: 100%|██████████| 500/500 [00:10<00:00, 47.68it/s]\n"
     ]
    },
    {
     "name": "stdout",
     "output_type": "stream",
     "text": [
      "Epoch 7, Loss: 1425177.3651\n"
     ]
    },
    {
     "name": "stderr",
     "output_type": "stream",
     "text": [
      "Training Epoch 8: 100%|██████████| 500/500 [00:10<00:00, 48.74it/s]\n"
     ]
    },
    {
     "name": "stdout",
     "output_type": "stream",
     "text": [
      "Epoch 8, Loss: 1457831.0201\n"
     ]
    },
    {
     "name": "stderr",
     "output_type": "stream",
     "text": [
      "Training Epoch 9: 100%|██████████| 500/500 [00:10<00:00, 47.50it/s]\n"
     ]
    },
    {
     "name": "stdout",
     "output_type": "stream",
     "text": [
      "Epoch 9, Loss: 1504774.9794\n"
     ]
    },
    {
     "name": "stderr",
     "output_type": "stream",
     "text": [
      "Training Epoch 10: 100%|██████████| 500/500 [00:10<00:00, 45.56it/s]\n"
     ]
    },
    {
     "name": "stdout",
     "output_type": "stream",
     "text": [
      "Epoch 10, Loss: 1520552.1794\n"
     ]
    },
    {
     "name": "stderr",
     "output_type": "stream",
     "text": [
      "Training Epoch 11: 100%|██████████| 500/500 [00:11<00:00, 45.40it/s]\n"
     ]
    },
    {
     "name": "stdout",
     "output_type": "stream",
     "text": [
      "Epoch 11, Loss: 1659101.1970\n"
     ]
    },
    {
     "name": "stderr",
     "output_type": "stream",
     "text": [
      "Training Epoch 12: 100%|██████████| 500/500 [00:10<00:00, 46.01it/s]\n"
     ]
    },
    {
     "name": "stdout",
     "output_type": "stream",
     "text": [
      "Epoch 12, Loss: 1673598.2074\n"
     ]
    },
    {
     "name": "stderr",
     "output_type": "stream",
     "text": [
      "Training Epoch 13: 100%|██████████| 500/500 [00:10<00:00, 47.35it/s]\n"
     ]
    },
    {
     "name": "stdout",
     "output_type": "stream",
     "text": [
      "Epoch 13, Loss: 1861147.5356\n"
     ]
    },
    {
     "name": "stderr",
     "output_type": "stream",
     "text": [
      "Training Epoch 14: 100%|██████████| 500/500 [00:10<00:00, 46.24it/s]\n"
     ]
    },
    {
     "name": "stdout",
     "output_type": "stream",
     "text": [
      "Epoch 14, Loss: 2097773.6752\n"
     ]
    },
    {
     "name": "stderr",
     "output_type": "stream",
     "text": [
      "Training Epoch 15: 100%|██████████| 500/500 [00:10<00:00, 45.97it/s]\n"
     ]
    },
    {
     "name": "stdout",
     "output_type": "stream",
     "text": [
      "Epoch 15, Loss: 2244573.2700\n"
     ]
    },
    {
     "name": "stderr",
     "output_type": "stream",
     "text": [
      "Training Epoch 16: 100%|██████████| 500/500 [00:11<00:00, 44.63it/s]\n"
     ]
    },
    {
     "name": "stdout",
     "output_type": "stream",
     "text": [
      "Epoch 16, Loss: 2400903.2049\n"
     ]
    },
    {
     "name": "stderr",
     "output_type": "stream",
     "text": [
      "Training Epoch 17: 100%|██████████| 500/500 [00:11<00:00, 44.30it/s]\n"
     ]
    },
    {
     "name": "stdout",
     "output_type": "stream",
     "text": [
      "Epoch 17, Loss: 2438940.8838\n"
     ]
    },
    {
     "name": "stderr",
     "output_type": "stream",
     "text": [
      "Training Epoch 18: 100%|██████████| 500/500 [00:10<00:00, 47.00it/s]\n"
     ]
    },
    {
     "name": "stdout",
     "output_type": "stream",
     "text": [
      "Epoch 18, Loss: 2603354.7423\n"
     ]
    },
    {
     "name": "stderr",
     "output_type": "stream",
     "text": [
      "Training Epoch 19: 100%|██████████| 500/500 [00:10<00:00, 46.82it/s]\n"
     ]
    },
    {
     "name": "stdout",
     "output_type": "stream",
     "text": [
      "Epoch 19, Loss: 3273866.4715\n"
     ]
    },
    {
     "name": "stderr",
     "output_type": "stream",
     "text": [
      "Training Epoch 20: 100%|██████████| 500/500 [00:10<00:00, 46.68it/s]\n"
     ]
    },
    {
     "name": "stdout",
     "output_type": "stream",
     "text": [
      "Epoch 20, Loss: 4514136.9935\n"
     ]
    },
    {
     "name": "stderr",
     "output_type": "stream",
     "text": [
      "Training Epoch 21: 100%|██████████| 500/500 [00:10<00:00, 45.85it/s]\n"
     ]
    },
    {
     "name": "stdout",
     "output_type": "stream",
     "text": [
      "Epoch 21, Loss: 4839503.4464\n"
     ]
    },
    {
     "name": "stderr",
     "output_type": "stream",
     "text": [
      "Training Epoch 22: 100%|██████████| 500/500 [00:10<00:00, 49.13it/s]\n"
     ]
    },
    {
     "name": "stdout",
     "output_type": "stream",
     "text": [
      "Epoch 22, Loss: 5001722.4154\n"
     ]
    },
    {
     "name": "stderr",
     "output_type": "stream",
     "text": [
      "Training Epoch 23: 100%|██████████| 500/500 [00:09<00:00, 52.46it/s]\n"
     ]
    },
    {
     "name": "stdout",
     "output_type": "stream",
     "text": [
      "Epoch 23, Loss: 5218595.1829\n"
     ]
    },
    {
     "name": "stderr",
     "output_type": "stream",
     "text": [
      "Training Epoch 24: 100%|██████████| 500/500 [00:09<00:00, 53.45it/s]\n"
     ]
    },
    {
     "name": "stdout",
     "output_type": "stream",
     "text": [
      "Epoch 24, Loss: 5297839.6023\n"
     ]
    },
    {
     "name": "stderr",
     "output_type": "stream",
     "text": [
      "Training Epoch 25: 100%|██████████| 500/500 [00:09<00:00, 53.84it/s]\n"
     ]
    },
    {
     "name": "stdout",
     "output_type": "stream",
     "text": [
      "Epoch 25, Loss: 5050563.8529\n"
     ]
    },
    {
     "name": "stderr",
     "output_type": "stream",
     "text": [
      "Training Epoch 26: 100%|██████████| 500/500 [00:09<00:00, 53.26it/s]\n"
     ]
    },
    {
     "name": "stdout",
     "output_type": "stream",
     "text": [
      "Epoch 26, Loss: 5403137.2684\n"
     ]
    },
    {
     "name": "stderr",
     "output_type": "stream",
     "text": [
      "Training Epoch 27: 100%|██████████| 500/500 [00:09<00:00, 51.52it/s]\n"
     ]
    },
    {
     "name": "stdout",
     "output_type": "stream",
     "text": [
      "Epoch 27, Loss: 6367601.9246\n"
     ]
    },
    {
     "name": "stderr",
     "output_type": "stream",
     "text": [
      "Training Epoch 28: 100%|██████████| 500/500 [00:09<00:00, 51.88it/s]\n"
     ]
    },
    {
     "name": "stdout",
     "output_type": "stream",
     "text": [
      "Epoch 28, Loss: 5447054.8665\n"
     ]
    },
    {
     "name": "stderr",
     "output_type": "stream",
     "text": [
      "Training Epoch 29: 100%|██████████| 500/500 [00:09<00:00, 51.67it/s]\n"
     ]
    },
    {
     "name": "stdout",
     "output_type": "stream",
     "text": [
      "Epoch 29, Loss: 4836907.9714\n"
     ]
    },
    {
     "name": "stderr",
     "output_type": "stream",
     "text": [
      "Training Epoch 30: 100%|██████████| 500/500 [00:09<00:00, 53.11it/s]\n"
     ]
    },
    {
     "name": "stdout",
     "output_type": "stream",
     "text": [
      "Epoch 30, Loss: 5707126.1555\n"
     ]
    },
    {
     "name": "stderr",
     "output_type": "stream",
     "text": [
      "Training Epoch 31: 100%|██████████| 500/500 [00:09<00:00, 54.12it/s]\n"
     ]
    },
    {
     "name": "stdout",
     "output_type": "stream",
     "text": [
      "Epoch 31, Loss: 4872516.3518\n"
     ]
    },
    {
     "name": "stderr",
     "output_type": "stream",
     "text": [
      "Training Epoch 32: 100%|██████████| 500/500 [00:09<00:00, 54.10it/s]\n"
     ]
    },
    {
     "name": "stdout",
     "output_type": "stream",
     "text": [
      "Epoch 32, Loss: 5532149.8877\n"
     ]
    },
    {
     "name": "stderr",
     "output_type": "stream",
     "text": [
      "Training Epoch 33: 100%|██████████| 500/500 [00:10<00:00, 49.79it/s]\n"
     ]
    },
    {
     "name": "stdout",
     "output_type": "stream",
     "text": [
      "Epoch 33, Loss: 5046982.3035\n"
     ]
    },
    {
     "name": "stderr",
     "output_type": "stream",
     "text": [
      "Training Epoch 34: 100%|██████████| 500/500 [00:10<00:00, 48.06it/s]\n"
     ]
    },
    {
     "name": "stdout",
     "output_type": "stream",
     "text": [
      "Epoch 34, Loss: 5348801.2930\n"
     ]
    },
    {
     "name": "stderr",
     "output_type": "stream",
     "text": [
      "Training Epoch 35: 100%|██████████| 500/500 [00:09<00:00, 50.73it/s]\n"
     ]
    },
    {
     "name": "stdout",
     "output_type": "stream",
     "text": [
      "Epoch 35, Loss: 5112169.4540\n"
     ]
    },
    {
     "name": "stderr",
     "output_type": "stream",
     "text": [
      "Training Epoch 36: 100%|██████████| 500/500 [00:09<00:00, 51.10it/s]\n"
     ]
    },
    {
     "name": "stdout",
     "output_type": "stream",
     "text": [
      "Epoch 36, Loss: 5091156.7172\n"
     ]
    },
    {
     "name": "stderr",
     "output_type": "stream",
     "text": [
      "Training Epoch 37: 100%|██████████| 500/500 [00:09<00:00, 53.78it/s]\n"
     ]
    },
    {
     "name": "stdout",
     "output_type": "stream",
     "text": [
      "Epoch 37, Loss: 5778965.0768\n"
     ]
    },
    {
     "name": "stderr",
     "output_type": "stream",
     "text": [
      "Training Epoch 38: 100%|██████████| 500/500 [00:09<00:00, 54.32it/s]\n"
     ]
    },
    {
     "name": "stdout",
     "output_type": "stream",
     "text": [
      "Epoch 38, Loss: 4885894.1320\n"
     ]
    },
    {
     "name": "stderr",
     "output_type": "stream",
     "text": [
      "Training Epoch 39: 100%|██████████| 500/500 [00:09<00:00, 51.92it/s]\n"
     ]
    },
    {
     "name": "stdout",
     "output_type": "stream",
     "text": [
      "Epoch 39, Loss: 4804728.8618\n"
     ]
    },
    {
     "name": "stderr",
     "output_type": "stream",
     "text": [
      "Training Epoch 40: 100%|██████████| 500/500 [00:09<00:00, 52.63it/s]\n"
     ]
    },
    {
     "name": "stdout",
     "output_type": "stream",
     "text": [
      "Epoch 40, Loss: 6065003.3623\n"
     ]
    },
    {
     "name": "stderr",
     "output_type": "stream",
     "text": [
      "Training Epoch 41: 100%|██████████| 500/500 [00:09<00:00, 51.84it/s]\n"
     ]
    },
    {
     "name": "stdout",
     "output_type": "stream",
     "text": [
      "Epoch 41, Loss: 4856782.4172\n"
     ]
    },
    {
     "name": "stderr",
     "output_type": "stream",
     "text": [
      "Training Epoch 42: 100%|██████████| 500/500 [00:09<00:00, 53.15it/s]\n"
     ]
    },
    {
     "name": "stdout",
     "output_type": "stream",
     "text": [
      "Epoch 42, Loss: 6018272.2977\n"
     ]
    },
    {
     "name": "stderr",
     "output_type": "stream",
     "text": [
      "Training Epoch 43: 100%|██████████| 500/500 [00:09<00:00, 53.96it/s]\n"
     ]
    },
    {
     "name": "stdout",
     "output_type": "stream",
     "text": [
      "Epoch 43, Loss: 5773505.6945\n"
     ]
    },
    {
     "name": "stderr",
     "output_type": "stream",
     "text": [
      "Training Epoch 44: 100%|██████████| 500/500 [00:09<00:00, 52.52it/s]\n"
     ]
    },
    {
     "name": "stdout",
     "output_type": "stream",
     "text": [
      "Epoch 44, Loss: 4883242.2603\n"
     ]
    },
    {
     "name": "stderr",
     "output_type": "stream",
     "text": [
      "Training Epoch 45: 100%|██████████| 500/500 [00:09<00:00, 52.78it/s]\n"
     ]
    },
    {
     "name": "stdout",
     "output_type": "stream",
     "text": [
      "Epoch 45, Loss: 4921759.7961\n"
     ]
    },
    {
     "name": "stderr",
     "output_type": "stream",
     "text": [
      "Training Epoch 46: 100%|██████████| 500/500 [00:10<00:00, 47.64it/s]\n"
     ]
    },
    {
     "name": "stdout",
     "output_type": "stream",
     "text": [
      "Epoch 46, Loss: 5721527.0108\n"
     ]
    },
    {
     "name": "stderr",
     "output_type": "stream",
     "text": [
      "Training Epoch 47: 100%|██████████| 500/500 [00:09<00:00, 50.37it/s]\n"
     ]
    },
    {
     "name": "stdout",
     "output_type": "stream",
     "text": [
      "Epoch 47, Loss: 5215698.3563\n"
     ]
    },
    {
     "name": "stderr",
     "output_type": "stream",
     "text": [
      "Training Epoch 48: 100%|██████████| 500/500 [00:09<00:00, 51.29it/s]\n"
     ]
    },
    {
     "name": "stdout",
     "output_type": "stream",
     "text": [
      "Epoch 48, Loss: 4990410.5045\n"
     ]
    },
    {
     "name": "stderr",
     "output_type": "stream",
     "text": [
      "Training Epoch 49: 100%|██████████| 500/500 [00:09<00:00, 52.32it/s]\n"
     ]
    },
    {
     "name": "stdout",
     "output_type": "stream",
     "text": [
      "Epoch 49, Loss: 5488399.9682\n"
     ]
    },
    {
     "name": "stderr",
     "output_type": "stream",
     "text": [
      "Training Epoch 50: 100%|██████████| 500/500 [00:09<00:00, 50.55it/s]\n"
     ]
    },
    {
     "name": "stdout",
     "output_type": "stream",
     "text": [
      "Epoch 50, Loss: 4794300.3181\n"
     ]
    },
    {
     "data": {
      "image/png": "[encoded data removed]",
      "text/plain": [
       "<Figure size 432x288 with 1 Axes>"
      ]
     },
     "metadata": {
      "needs_background": "light"
     },
     "output_type": "display_data"
    },
    {
     "name": "stderr",
     "output_type": "stream",
     "text": [
      "Testing GCN: 100%|██████████| 1000/1000 [00:03<00:00, 254.81it/s]\n"
     ]
    },
    {
     "data": {
      "image/png": "[encoded data removed]",
      "text/plain": [
       "<Figure size 864x432 with 1 Axes>"
      ]
     },
     "metadata": {
      "needs_background": "light"
     },
     "output_type": "display_data"
    },
    {
     "name": "stdout",
     "output_type": "stream",
     "text": [
      "GCN Mean Error: 1721.4358 meters, Median Error: 1694.5872 meters\n"
     ]
    },
    {
     "data": {
      "image/png": "[encoded data removed]",
      "text/plain": [
       "<Figure size 864x432 with 1 Axes>"
      ]
     },
     "metadata": {
      "needs_background": "light"
     },
     "output_type": "display_data"
    }
   ],
   "source": [
    "# Import necessary libraries\n",
    "import torch\n",
    "import numpy as np\n",
    "from scipy.io import loadmat\n",
    "from torch_geometric.data import Data, DataLoader\n",
    "from sklearn.preprocessing import StandardScaler\n",
    "import matplotlib.pyplot as plt\n",
    "from torch.nn import Sequential, Linear\n",
    "from torch_geometric.nn import GCNConv\n",
    "import torch.nn.functional as F\n",
    "from tqdm import tqdm\n",
    "import utm\n",
    "\n",
    "# Device setup\n",
    "device = torch.device('cuda') if torch.cuda.is_available() else torch.device('cpu')\n",
    "print('Using device:', device)\n",
    "\n",
    "# Load data from MATLAB files\n",
    "num_instances = 1000  # Adjust based on your dataset\n",
    "data_list = []\n",
    "\n",
    "all_distances = []\n",
    "all_rssi_values = []\n",
    "distance_rssi_pairs = []\n",
    "\n",
    "min_rssi_threshold = -200  # Adjust based on your visualization\n",
    "\n",
    "for instance_idx in tqdm(range(1, num_instances + 1), desc=\"Loading MATLAB data\"):\n",
    "    filename = f\"matlab/data/mid_16beacons/data_instance_{instance_idx}.mat\"\n",
    "    mat_data = loadmat(filename)\n",
    "\n",
    "    # Extract positions and signal strength\n",
    "    node_latitudes = mat_data['nodeLatitudes'].flatten()\n",
    "    node_longitudes = mat_data['nodeLongitudes'].flatten()\n",
    "    signal_strength_matrix = mat_data['signal_strength_matrix']\n",
    "\n",
    "    num_nodes = len(node_latitudes)\n",
    "\n",
    "    # Convert lat/lon to UTM coordinates\n",
    "    utm_coords = [utm.from_latlon(lat, lon)[:2] for lat, lon in zip(node_latitudes, node_longitudes)]\n",
    "    utm_coords = np.array(utm_coords)  # Shape: (num_nodes, 2)\n",
    "\n",
    "    # Labels (ground truth positions)\n",
    "    y = torch.tensor(utm_coords, dtype=torch.float)\n",
    "\n",
    "    # Node features\n",
    "    node_features = []\n",
    "    numAnchors = 4  # Adjust based on your number of anchors\n",
    "    anchor_mask = torch.zeros(num_nodes, dtype=torch.bool)\n",
    "    anchor_mask[:numAnchors] = True\n",
    "    unknown_mask = ~anchor_mask\n",
    "\n",
    "    for i in range(num_nodes):\n",
    "        is_anchor = 1 if anchor_mask[i] else 0\n",
    "        if is_anchor:\n",
    "            # Anchors: Use known UTM positions and an anchor flag\n",
    "            node_features.append([utm_coords[i][0], utm_coords[i][1], is_anchor])\n",
    "        else:\n",
    "            # Unknown nodes: Initialize positions with zeros; include unknown node flag\n",
    "            node_features.append([0.0, 0.0, is_anchor])\n",
    "    x = torch.tensor(node_features, dtype=torch.float)\n",
    "\n",
    "    # Collect edge indices\n",
    "    edge_index_list = []\n",
    "\n",
    "    for i in range(num_nodes):\n",
    "        for j in range(num_nodes):\n",
    "            if i != j and not np.isnan(signal_strength_matrix[i, j, 0]):\n",
    "                # Get UTM positions\n",
    "                pos_i = utm_coords[i]\n",
    "                pos_j = utm_coords[j]\n",
    "                # Calculate Euclidean distance between node i and node j\n",
    "                distance = np.linalg.norm(pos_i - pos_j)\n",
    "                all_distances.append(distance)\n",
    "\n",
    "                # Collect RSSI values\n",
    "                rssi_values = signal_strength_matrix[i, j, :]\n",
    "                all_rssi_values.extend(rssi_values)\n",
    "\n",
    "                # Pair each RSSI measurement with the corresponding distance\n",
    "                for rssi_value in rssi_values:\n",
    "                    distance_rssi_pairs.append((distance, rssi_value))\n",
    "\n",
    "                # Apply RSSI threshold\n",
    "                rssi_values_clipped = np.maximum(rssi_values, min_rssi_threshold)\n",
    "\n",
    "                # Since we're not using edge attributes in the simpler model, we can just store the edge indices\n",
    "                edge_index_list.append([i, j])\n",
    "\n",
    "    # Create edge index\n",
    "    edge_index = torch.tensor(edge_index_list, dtype=torch.long).t().contiguous()\n",
    "\n",
    "    # Create PyTorch Geometric Data object\n",
    "    data = Data(x=x, edge_index=edge_index, y=y)\n",
    "    data.anchor_mask = anchor_mask\n",
    "    data.unknown_mask = unknown_mask\n",
    "\n",
    "    data_list.append(data)\n",
    "\n",
    "# Convert lists to numpy arrays\n",
    "all_distances = np.array(all_distances)\n",
    "all_rssi_values = np.array(all_rssi_values)\n",
    "distance_rssi_pairs = np.array(distance_rssi_pairs)  # Shape: (num_samples, 2)\n",
    "\n",
    "\n",
    "\n",
    "# Plot the scatter of RSSI vs. Distance\n",
    "plt.figure(figsize=(10, 6))\n",
    "plt.scatter(distance_rssi_pairs[:, 0], distance_rssi_pairs[:, 1], alpha=0.5)\n",
    "plt.xlabel('Distance between Nodes (meters)')\n",
    "plt.ylabel('RSSI Value (dBm)')\n",
    "plt.title('RSSI vs. Distance Scatter Plot')\n",
    "plt.grid(True)\n",
    "plt.show()\n",
    "\n",
    "# Normalize node features using StandardScaler\n",
    "# Collect features from anchor nodes only for fitting the scaler\n",
    "all_anchor_features = torch.cat([data.x[data.anchor_mask] for data in data_list], dim=0).numpy()\n",
    "scaler = StandardScaler()\n",
    "scaler.fit(all_anchor_features)\n",
    "\n",
    "# Apply the scaler to all data\n",
    "for data in data_list:\n",
    "    data.x = torch.tensor(scaler.transform(data.x.numpy()), dtype=torch.float)\n",
    "\n",
    "# Create DataLoader\n",
    "train_loader = DataLoader(data_list, batch_size=2, shuffle=True)\n",
    "\n",
    "\n",
    "class SimpleGCN(torch.nn.Module):\n",
    "    def __init__(self, input_dim, hidden_dim, output_dim):\n",
    "        super(SimpleGCN, self).__init__()\n",
    "        self.conv1 = GCNConv(input_dim, hidden_dim)\n",
    "        self.conv2 = GCNConv(hidden_dim, hidden_dim)\n",
    "        self.fc = Linear(hidden_dim, output_dim)\n",
    "        \n",
    "        # Projection layers for anchor nodes\n",
    "        self.anchor_proj1 = Linear(input_dim, hidden_dim)\n",
    "        self.anchor_proj2 = Linear(hidden_dim, hidden_dim)\n",
    "\n",
    "    def forward(self, x, edge_index, anchor_mask):\n",
    "        # Save the original features of anchor nodes\n",
    "        x_anchor = x[anchor_mask]  # Shape: [num_anchors, input_dim]\n",
    "\n",
    "        # First GCN layer\n",
    "        x = self.conv1(x, edge_index)\n",
    "        x = F.relu(x)  # Shape: [num_nodes, hidden_dim]\n",
    "\n",
    "        # Project anchor nodes' features to match the hidden dimension\n",
    "        x_anchor_proj = self.anchor_proj1(x_anchor)  # Shape: [num_anchors, hidden_dim]\n",
    "\n",
    "        # Create a new tensor by combining x and x_anchor_proj without in-place assignment\n",
    "        x = x.clone()  # Clone x to avoid modifying it in-place\n",
    "        x[anchor_mask] = x_anchor_proj\n",
    "\n",
    "        # Second GCN layer\n",
    "        x = self.conv2(x, edge_index)\n",
    "        x = F.relu(x)  # Shape: [num_nodes, hidden_dim]\n",
    "\n",
    "        # Project anchor nodes' features again\n",
    "        x_anchor = x[anchor_mask]  # Extract updated anchor features\n",
    "        x_anchor_proj = self.anchor_proj2(x_anchor)  # Shape: [num_anchors, hidden_dim]\n",
    "\n",
    "        # Create a new tensor by combining x and x_anchor_proj without in-place assignment\n",
    "        x = x.clone()\n",
    "        x[anchor_mask] = x_anchor_proj\n",
    "\n",
    "        # Final output layer\n",
    "        x = self.fc(x)\n",
    "        return x\n",
    "\n",
    "# Instantiate the simple model\n",
    "input_dim = data_list[0].x.shape[1]  # Number of node features\n",
    "hidden_dim = 32  # Adjust as needed\n",
    "output_dim = 2   # Predicting x and y coordinates\n",
    "\n",
    "model = SimpleGCN(input_dim, hidden_dim, output_dim).to(device)\n",
    "optimizer = torch.optim.Adam(model.parameters(), lr=0.01, weight_decay=1e-5)\n",
    "\n",
    "# Training loop\n",
    "model.train()\n",
    "loss_history = []\n",
    "torch.autograd.set_detect_anomaly(True)\n",
    "\n",
    "for epoch in range(50):\n",
    "    total_loss = 0\n",
    "\n",
    "    for data in tqdm(train_loader, desc=f\"Training Epoch {epoch+1}\"):\n",
    "        data = data.to(device)\n",
    "        optimizer.zero_grad()\n",
    "        out = model(data.x, data.edge_index, data.anchor_mask)\n",
    "\n",
    "        # Compute loss only for unknown nodes\n",
    "        loss = F.mse_loss(out[data.unknown_mask], data.y[data.unknown_mask])\n",
    "        loss.backward()\n",
    "        optimizer.step()\n",
    "\n",
    "        total_loss += loss.item()\n",
    "\n",
    "    avg_loss = total_loss / len(train_loader)\n",
    "    loss_history.append(avg_loss)\n",
    "    print(f'Epoch {epoch+1}, Loss: {avg_loss:.4f}')\n",
    "\n",
    "# Plot training loss\n",
    "plt.figure()\n",
    "plt.plot(loss_history)\n",
    "plt.xlabel('Epoch')\n",
    "plt.ylabel('Loss')\n",
    "plt.title('Training Loss')\n",
    "plt.grid(True)\n",
    "plt.show()\n",
    "\n",
    "# Evaluation and Visualization of GCN Results\n",
    "model.eval()\n",
    "errors_gcn = []\n",
    "\n",
    "# Create test DataLoader\n",
    "test_loader = DataLoader(data_list, batch_size=1, shuffle=False)\n",
    "\n",
    "with torch.no_grad():\n",
    "    for data in tqdm(test_loader, desc=\"Testing GCN\"):\n",
    "        data = data.to(device)\n",
    "        out = model(data.x, data.edge_index, data.anchor_mask)\n",
    "        predicted_positions = out.cpu().numpy()\n",
    "        true_positions = data.y.cpu().numpy()\n",
    "\n",
    "        # Overwrite anchor nodes' positions with true positions (since anchors are known)\n",
    "        predicted_positions[data.anchor_mask.cpu()] = true_positions[data.anchor_mask.cpu()]\n",
    "\n",
    "        # Calculate estimation errors for unknown nodes using Euclidean distance\n",
    "        for idx in range(true_positions.shape[0]):\n",
    "            if data.unknown_mask[idx]:  # Only for unknown nodes\n",
    "                true_pos = true_positions[idx]\n",
    "                pred_pos = predicted_positions[idx]\n",
    "                error = np.linalg.norm(true_pos - pred_pos)\n",
    "                errors_gcn.append(error)\n",
    "\n",
    "# Convert errors to numpy arrays\n",
    "errors_gcn = np.array(errors_gcn)\n",
    "\n",
    "# Plot error distributions\n",
    "plt.figure(figsize=(12, 6))\n",
    "plt.hist(errors_gcn, bins=20, alpha=0.7, label='GCN Errors', color='skyblue')\n",
    "plt.xlabel('Localization Error (meters)')\n",
    "plt.ylabel('Number of Nodes')\n",
    "plt.title('Error Distribution for GCN on Test Data')\n",
    "plt.legend()\n",
    "plt.grid(True)\n",
    "plt.show()\n",
    "\n",
    "# Print mean and median errors\n",
    "print(f\"GCN Mean Error: {errors_gcn.mean():.4f} meters, Median Error: {np.median(errors_gcn):.4f} meters\")\n",
    "\n",
    "# Visualization: Ground Truth vs. Predicted Positions\n",
    "sample_data = data_list[0]  # Get a sample test graph for visualization\n",
    "sample_data = sample_data.to(device)\n",
    "\n",
    "with torch.no_grad():\n",
    "    out = model(sample_data.x, sample_data.edge_index, sample_data.anchor_mask)\n",
    "    predicted_positions = out.cpu().numpy()\n",
    "    true_positions = sample_data.y.cpu().numpy()\n",
    "\n",
    "# Overwrite anchor nodes' positions with true positions (since anchors are known)\n",
    "predicted_positions[sample_data.anchor_mask.cpu()] = true_positions[sample_data.anchor_mask.cpu()]\n",
    "\n",
    "# Plotting\n",
    "plt.figure(figsize=(12, 6))\n",
    "\n",
    "# Ground truth positions\n",
    "plt.scatter(true_positions[sample_data.unknown_mask.cpu(), 0], true_positions[sample_data.unknown_mask.cpu(), 1], \n",
    "            c='blue', label='True Unknown Node Positions', alpha=0.6)\n",
    "\n",
    "# Predicted positions\n",
    "plt.scatter(predicted_positions[sample_data.unknown_mask.cpu(), 0], predicted_positions[sample_data.unknown_mask.cpu(), 1], \n",
    "            c='red', label='Predicted Unknown Node Positions (GCN)', alpha=0.6)\n",
    "\n",
    "# Anchor positions\n",
    "plt.scatter(true_positions[sample_data.anchor_mask.cpu(), 0], true_positions[sample_data.anchor_mask.cpu(), 1], \n",
    "            c='green', label='Anchor Nodes', marker='^', s=100)\n",
    "\n",
    "plt.legend()\n",
    "plt.xlabel('Easting (meters)')\n",
    "plt.ylabel('Northing (meters)')\n",
    "plt.title('Comparison of True vs. Predicted Node Positions')\n",
    "plt.grid(True)\n",
    "plt.show()"
   ]
  },
  {
   "cell_type": "code",
   "execution_count": null,
   "metadata": {},
   "outputs": [],
   "source": []
  }
 ],
 "metadata": {
  "kernelspec": {
   "display_name": "Python 3",
   "language": "python",
   "name": "python3"
  },
  "language_info": {
   "codemirror_mode": {
    "name": "ipython",
    "version": 3
   },
   "file_extension": ".py",
   "mimetype": "text/x-python",
   "name": "python",
   "nbconvert_exporter": "python",
   "pygments_lexer": "ipython3",
   "version": "3.10.11"
  }
 },
 "nbformat": 4,
 "nbformat_minor": 2
}
