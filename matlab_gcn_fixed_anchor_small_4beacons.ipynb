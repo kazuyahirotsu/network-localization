{
 "cells": [
  {
   "cell_type": "code",
   "execution_count": 19,
   "metadata": {},
   "outputs": [],
   "source": [
    "# Import necessary libraries\n",
    "import torch\n",
    "import numpy as np\n",
    "from scipy.io import loadmat\n",
    "from torch_geometric.data import Data, DataLoader\n",
    "from sklearn.preprocessing import StandardScaler\n",
    "import matplotlib.pyplot as plt\n",
    "from torch.nn import Sequential, Linear\n",
    "from torch_geometric.nn import NNConv\n",
    "import torch.nn.functional as F\n",
    "from tqdm import tqdm"
   ]
  },
  {
   "cell_type": "code",
   "execution_count": 20,
   "metadata": {},
   "outputs": [
    {
     "name": "stdout",
     "output_type": "stream",
     "text": [
      "Using device: cuda\n"
     ]
    }
   ],
   "source": [
    "# %% Device setup\n",
    "device = torch.device('cuda') if torch.cuda.is_available() else torch.device('cpu')\n",
    "print('Using device:', device)"
   ]
  },
  {
   "cell_type": "code",
   "execution_count": 21,
   "metadata": {},
   "outputs": [
    {
     "name": "stderr",
     "output_type": "stream",
     "text": [
      "Loading MATLAB data: 100%|██████████| 1000/1000 [00:00<00:00, 2789.18it/s]\n"
     ]
    }
   ],
   "source": [
    "# %% Load data from MATLAB files\n",
    "num_instances = 1000\n",
    "data_list = []\n",
    "\n",
    "for instance_idx in tqdm(range(1, num_instances + 1), desc=\"Loading MATLAB data\"):\n",
    "    filename = f\"matlab/data/small_4beacons/data_instance_{instance_idx}.mat\"\n",
    "    mat_data = loadmat(filename)\n",
    "\n",
    "    # Extract positions and signal strength\n",
    "    node_latitudes = mat_data['nodeLatitudes'].flatten()\n",
    "    node_longitudes = mat_data['nodeLongitudes'].flatten()\n",
    "    signal_strength_matrix = mat_data['signal_strength_matrix']\n",
    "\n",
    "    # Number of nodes\n",
    "    num_nodes = len(node_latitudes)\n",
    "\n",
    "    # Create truth locations (latitude and longitude converted to x, y coordinates)\n",
    "    truth_location_list = np.column_stack((node_latitudes, node_longitudes))\n",
    "\n",
    "    # Compute distances and create edge attributes\n",
    "    edge_index_list = []\n",
    "    edge_attr_list = []\n",
    "\n",
    "    for i in range(num_nodes):\n",
    "        for j in range(num_nodes):\n",
    "            if i != j and not np.isnan(signal_strength_matrix[i, j, 0]):\n",
    "                edge_index_list.append([i, j])\n",
    "                edge_attr_list.append(signal_strength_matrix[i, j, :])  # Use all 10 simulated measurements\n",
    "    \n",
    "    edge_index = torch.tensor(edge_index_list, dtype=torch.long).t().contiguous()\n",
    "    edge_attr = torch.tensor(edge_attr_list, dtype=torch.float)\n",
    "\n",
    "    # Create node features\n",
    "    anchor_mask = torch.zeros(num_nodes, dtype=torch.bool)\n",
    "    anchor_mask[:1] = True  # First 1 nodes are anchors\n",
    "    unknown_mask = ~anchor_mask\n",
    "\n",
    "    # Node features: coordinates and anchor flag (1 for anchor, 0 for unknown)\n",
    "    node_features = []\n",
    "    # for i in range(num_nodes):\n",
    "    #     is_anchor = 1 if i < 1 else 0\n",
    "    #     node_features.append([node_latitudes[i], node_longitudes[i], is_anchor])\n",
    "    # Node features: coordinates (anchors only) and anchor flag (1 for anchor, 0 for unknown)\n",
    "    for i in range(num_nodes):\n",
    "        is_anchor = 1 if i < 1 else 0  # Adjust if your anchors are not the first 4 nodes\n",
    "        if is_anchor:\n",
    "            node_features.append([node_latitudes[i], node_longitudes[i], is_anchor])\n",
    "        else:\n",
    "            # Initialize unknown nodes' positions with zeros\n",
    "            node_features.append([0.0, 0.0, is_anchor])\n",
    "\n",
    "\n",
    "    x = torch.tensor(node_features, dtype=torch.float)\n",
    "\n",
    "    # Labels (ground truth positions)\n",
    "    y = torch.tensor(truth_location_list, dtype=torch.float)\n",
    "\n",
    "    # Create PyTorch Geometric Data object\n",
    "    data = Data(x=x, edge_index=edge_index, edge_attr=edge_attr, y=y)\n",
    "    data.anchor_mask = anchor_mask\n",
    "    data.unknown_mask = unknown_mask\n",
    "\n",
    "    data_list.append(data)"
   ]
  },
  {
   "cell_type": "code",
   "execution_count": 22,
   "metadata": {},
   "outputs": [
    {
     "name": "stderr",
     "output_type": "stream",
     "text": [
      "C:\\Users\\kazuya\\AppData\\Local\\Packages\\PythonSoftwareFoundation.Python.3.10_qbz5n2kfra8p0\\LocalCache\\local-packages\\Python310\\site-packages\\torch_geometric\\deprecation.py:26: UserWarning: 'data.DataLoader' is deprecated, use 'loader.DataLoader' instead\n",
      "  warnings.warn(out)\n"
     ]
    }
   ],
   "source": [
    "# # %% Normalize features using StandardScaler\n",
    "# all_features = torch.cat([data.x for data in data_list], dim=0).numpy()\n",
    "# scaler = StandardScaler()\n",
    "# scaler.fit(all_features)\n",
    "\n",
    "# for data in data_list:\n",
    "#     data.x = torch.tensor(scaler.transform(data.x.numpy()), dtype=torch.float)\n",
    "# Collect features from anchor nodes only for fitting the scaler\n",
    "all_anchor_features = torch.cat([data.x[data.anchor_mask] for data in data_list], dim=0).numpy()\n",
    "scaler = StandardScaler()\n",
    "scaler.fit(all_anchor_features)\n",
    "\n",
    "# Apply the scaler to all data\n",
    "for data in data_list:\n",
    "    data.x = torch.tensor(scaler.transform(data.x.numpy()), dtype=torch.float)\n",
    "\n",
    "# %% Create DataLoader\n",
    "train_loader = DataLoader(data_list, batch_size=2, shuffle=True)"
   ]
  },
  {
   "cell_type": "code",
   "execution_count": 23,
   "metadata": {},
   "outputs": [],
   "source": [
    "# %% Define GCN model\n",
    "class EdgeFeatureNet(torch.nn.Module):\n",
    "    def __init__(self, input_dim, output_dim):\n",
    "        super(EdgeFeatureNet, self).__init__()\n",
    "        self.net = Sequential(\n",
    "            Linear(input_dim, 64),\n",
    "            torch.nn.ReLU(),\n",
    "            Linear(64, output_dim)\n",
    "        )\n",
    "    \n",
    "    def forward(self, x):\n",
    "        return self.net(x)\n",
    "\n",
    "class GCN(torch.nn.Module):\n",
    "    def __init__(self, input_dim, hidden_dim, output_dim, edge_feature_dim, num_measurements):\n",
    "        super(GCN, self).__init__()\n",
    "        # Edge feature network to process time-series edge attributes\n",
    "        self.edge_net = EdgeFeatureNet(num_measurements, edge_feature_dim)\n",
    "        \n",
    "        # Edge networks for NNConv layers\n",
    "        nn1 = Sequential(Linear(edge_feature_dim, hidden_dim * input_dim))\n",
    "        self.conv1 = NNConv(input_dim, hidden_dim, nn1, aggr='mean')\n",
    "        \n",
    "        nn2 = Sequential(Linear(edge_feature_dim, hidden_dim * hidden_dim))\n",
    "        self.conv2 = NNConv(hidden_dim, hidden_dim, nn2, aggr='mean')\n",
    "        \n",
    "        self.fc = Linear(hidden_dim, output_dim)\n",
    "        \n",
    "        # Projection layers for anchor nodes\n",
    "        self.anchor_proj1 = Linear(input_dim, hidden_dim)\n",
    "        self.anchor_proj2 = Linear(hidden_dim, hidden_dim)\n",
    "    \n",
    "    def forward(self, x, edge_index, edge_attr, anchor_mask):\n",
    "        # Process edge attributes using EdgeFeatureNet\n",
    "        edge_attr_processed = self.edge_net(edge_attr)\n",
    "        \n",
    "        # Save the original features of anchor nodes\n",
    "        x_anchor = x[anchor_mask]\n",
    "        \n",
    "        # First GNN layer\n",
    "        x = self.conv1(x, edge_index, edge_attr_processed)\n",
    "        x = F.relu(x)\n",
    "        \n",
    "        # Project anchor nodes' features to match the hidden dimension\n",
    "        x_anchor_proj = self.anchor_proj1(x_anchor)\n",
    "        \n",
    "        # Create a full-sized tensor for x_anchor_proj\n",
    "        x_anchor_proj_full = x.clone()\n",
    "        x_anchor_proj_full[anchor_mask] = x_anchor_proj\n",
    "        \n",
    "        # Combine the projected anchor features with the updated features\n",
    "        x = torch.where(anchor_mask.unsqueeze(1), x_anchor_proj_full, x)\n",
    "        \n",
    "        # Save the features of anchor nodes after the first layer\n",
    "        x_anchor = x[anchor_mask]\n",
    "        \n",
    "        # Second GNN layer\n",
    "        x = self.conv2(x, edge_index, edge_attr_processed)\n",
    "        x = F.relu(x)\n",
    "        \n",
    "        # Project anchor nodes' features to match the hidden dimension\n",
    "        x_anchor_proj = self.anchor_proj2(x_anchor)\n",
    "        \n",
    "        # Create a full-sized tensor for x_anchor_proj\n",
    "        x_anchor_proj_full = x.clone()\n",
    "        x_anchor_proj_full[anchor_mask] = x_anchor_proj\n",
    "        \n",
    "        # Combine the anchor features with the updated features\n",
    "        x = torch.where(anchor_mask.unsqueeze(1), x_anchor_proj_full, x)\n",
    "        \n",
    "        # Final fully connected layer\n",
    "        x = self.fc(x)\n",
    "        return x"
   ]
  },
  {
   "cell_type": "code",
   "execution_count": 24,
   "metadata": {},
   "outputs": [],
   "source": [
    "# %% Instantiate model and optimizer\n",
    "input_dim = data_list[0].x.shape[1]  # Adjust input dimension based on node features\n",
    "hidden_dim = 64  # Adjust as needed\n",
    "output_dim = 2   # Predicting x and y coordinates\n",
    "edge_feature_dim = 32  # Adjust as needed\n",
    "\n",
    "model = GCN(input_dim=input_dim, hidden_dim=hidden_dim, output_dim=output_dim, edge_feature_dim=edge_feature_dim, num_measurements=10).to(device)\n",
    "optimizer = torch.optim.Adam(model.parameters(), lr=0.01, weight_decay=1e-5)\n"
   ]
  },
  {
   "cell_type": "code",
   "execution_count": 25,
   "metadata": {},
   "outputs": [
    {
     "name": "stderr",
     "output_type": "stream",
     "text": [
      "Training Epoch 1: 100%|██████████| 500/500 [00:03<00:00, 134.44it/s]\n"
     ]
    },
    {
     "name": "stdout",
     "output_type": "stream",
     "text": [
      "Epoch 1, Loss: 6508730.6670\n"
     ]
    },
    {
     "name": "stderr",
     "output_type": "stream",
     "text": [
      "Training Epoch 2: 100%|██████████| 500/500 [00:03<00:00, 136.17it/s]\n"
     ]
    },
    {
     "name": "stdout",
     "output_type": "stream",
     "text": [
      "Epoch 2, Loss: 648.8724\n"
     ]
    },
    {
     "name": "stderr",
     "output_type": "stream",
     "text": [
      "Training Epoch 3: 100%|██████████| 500/500 [00:03<00:00, 139.15it/s]\n"
     ]
    },
    {
     "name": "stdout",
     "output_type": "stream",
     "text": [
      "Epoch 3, Loss: 165.4142\n"
     ]
    },
    {
     "name": "stderr",
     "output_type": "stream",
     "text": [
      "Training Epoch 4: 100%|██████████| 500/500 [00:03<00:00, 142.32it/s]\n"
     ]
    },
    {
     "name": "stdout",
     "output_type": "stream",
     "text": [
      "Epoch 4, Loss: 126.5670\n"
     ]
    },
    {
     "name": "stderr",
     "output_type": "stream",
     "text": [
      "Training Epoch 5: 100%|██████████| 500/500 [00:03<00:00, 140.96it/s]\n"
     ]
    },
    {
     "name": "stdout",
     "output_type": "stream",
     "text": [
      "Epoch 5, Loss: 72.8164\n"
     ]
    },
    {
     "name": "stderr",
     "output_type": "stream",
     "text": [
      "Training Epoch 6: 100%|██████████| 500/500 [00:03<00:00, 141.58it/s]\n"
     ]
    },
    {
     "name": "stdout",
     "output_type": "stream",
     "text": [
      "Epoch 6, Loss: 46.5222\n"
     ]
    },
    {
     "name": "stderr",
     "output_type": "stream",
     "text": [
      "Training Epoch 7: 100%|██████████| 500/500 [00:03<00:00, 143.79it/s]\n"
     ]
    },
    {
     "name": "stdout",
     "output_type": "stream",
     "text": [
      "Epoch 7, Loss: 41.5904\n"
     ]
    },
    {
     "name": "stderr",
     "output_type": "stream",
     "text": [
      "Training Epoch 8: 100%|██████████| 500/500 [00:03<00:00, 140.21it/s]\n"
     ]
    },
    {
     "name": "stdout",
     "output_type": "stream",
     "text": [
      "Epoch 8, Loss: 43.4748\n"
     ]
    },
    {
     "name": "stderr",
     "output_type": "stream",
     "text": [
      "Training Epoch 9: 100%|██████████| 500/500 [00:03<00:00, 136.69it/s]\n"
     ]
    },
    {
     "name": "stdout",
     "output_type": "stream",
     "text": [
      "Epoch 9, Loss: 42.6381\n"
     ]
    },
    {
     "name": "stderr",
     "output_type": "stream",
     "text": [
      "Training Epoch 10: 100%|██████████| 500/500 [00:03<00:00, 143.98it/s]\n"
     ]
    },
    {
     "name": "stdout",
     "output_type": "stream",
     "text": [
      "Epoch 10, Loss: 56.2965\n"
     ]
    },
    {
     "name": "stderr",
     "output_type": "stream",
     "text": [
      "Training Epoch 11: 100%|██████████| 500/500 [00:03<00:00, 143.21it/s]\n"
     ]
    },
    {
     "name": "stdout",
     "output_type": "stream",
     "text": [
      "Epoch 11, Loss: 43.4986\n"
     ]
    },
    {
     "name": "stderr",
     "output_type": "stream",
     "text": [
      "Training Epoch 12: 100%|██████████| 500/500 [00:03<00:00, 141.93it/s]\n"
     ]
    },
    {
     "name": "stdout",
     "output_type": "stream",
     "text": [
      "Epoch 12, Loss: 27044.5656\n"
     ]
    },
    {
     "name": "stderr",
     "output_type": "stream",
     "text": [
      "Training Epoch 13: 100%|██████████| 500/500 [00:03<00:00, 143.17it/s]\n"
     ]
    },
    {
     "name": "stdout",
     "output_type": "stream",
     "text": [
      "Epoch 13, Loss: 47.1665\n"
     ]
    },
    {
     "name": "stderr",
     "output_type": "stream",
     "text": [
      "Training Epoch 14: 100%|██████████| 500/500 [00:03<00:00, 144.27it/s]\n"
     ]
    },
    {
     "name": "stdout",
     "output_type": "stream",
     "text": [
      "Epoch 14, Loss: 28.1149\n"
     ]
    },
    {
     "name": "stderr",
     "output_type": "stream",
     "text": [
      "Training Epoch 15: 100%|██████████| 500/500 [00:03<00:00, 141.29it/s]\n"
     ]
    },
    {
     "name": "stdout",
     "output_type": "stream",
     "text": [
      "Epoch 15, Loss: 16.4818\n"
     ]
    },
    {
     "name": "stderr",
     "output_type": "stream",
     "text": [
      "Training Epoch 16: 100%|██████████| 500/500 [00:03<00:00, 141.57it/s]\n"
     ]
    },
    {
     "name": "stdout",
     "output_type": "stream",
     "text": [
      "Epoch 16, Loss: 13.0975\n"
     ]
    },
    {
     "name": "stderr",
     "output_type": "stream",
     "text": [
      "Training Epoch 17: 100%|██████████| 500/500 [00:03<00:00, 140.94it/s]\n"
     ]
    },
    {
     "name": "stdout",
     "output_type": "stream",
     "text": [
      "Epoch 17, Loss: 11.7323\n"
     ]
    },
    {
     "name": "stderr",
     "output_type": "stream",
     "text": [
      "Training Epoch 18: 100%|██████████| 500/500 [00:03<00:00, 142.39it/s]\n"
     ]
    },
    {
     "name": "stdout",
     "output_type": "stream",
     "text": [
      "Epoch 18, Loss: 10.7433\n"
     ]
    },
    {
     "name": "stderr",
     "output_type": "stream",
     "text": [
      "Training Epoch 19: 100%|██████████| 500/500 [00:03<00:00, 139.84it/s]\n"
     ]
    },
    {
     "name": "stdout",
     "output_type": "stream",
     "text": [
      "Epoch 19, Loss: 9.7770\n"
     ]
    },
    {
     "name": "stderr",
     "output_type": "stream",
     "text": [
      "Training Epoch 20: 100%|██████████| 500/500 [00:03<00:00, 142.96it/s]\n"
     ]
    },
    {
     "name": "stdout",
     "output_type": "stream",
     "text": [
      "Epoch 20, Loss: 9.9265\n"
     ]
    },
    {
     "name": "stderr",
     "output_type": "stream",
     "text": [
      "Training Epoch 21: 100%|██████████| 500/500 [00:03<00:00, 141.60it/s]\n"
     ]
    },
    {
     "name": "stdout",
     "output_type": "stream",
     "text": [
      "Epoch 21, Loss: 9.1264\n"
     ]
    },
    {
     "name": "stderr",
     "output_type": "stream",
     "text": [
      "Training Epoch 22: 100%|██████████| 500/500 [00:03<00:00, 142.57it/s]\n"
     ]
    },
    {
     "name": "stdout",
     "output_type": "stream",
     "text": [
      "Epoch 22, Loss: 7.6077\n"
     ]
    },
    {
     "name": "stderr",
     "output_type": "stream",
     "text": [
      "Training Epoch 23: 100%|██████████| 500/500 [00:03<00:00, 144.90it/s]\n"
     ]
    },
    {
     "name": "stdout",
     "output_type": "stream",
     "text": [
      "Epoch 23, Loss: 6.8380\n"
     ]
    },
    {
     "name": "stderr",
     "output_type": "stream",
     "text": [
      "Training Epoch 24: 100%|██████████| 500/500 [00:03<00:00, 144.73it/s]\n"
     ]
    },
    {
     "name": "stdout",
     "output_type": "stream",
     "text": [
      "Epoch 24, Loss: 6.3728\n"
     ]
    },
    {
     "name": "stderr",
     "output_type": "stream",
     "text": [
      "Training Epoch 25: 100%|██████████| 500/500 [00:03<00:00, 141.41it/s]\n"
     ]
    },
    {
     "name": "stdout",
     "output_type": "stream",
     "text": [
      "Epoch 25, Loss: 4.6058\n"
     ]
    },
    {
     "name": "stderr",
     "output_type": "stream",
     "text": [
      "Training Epoch 26: 100%|██████████| 500/500 [00:03<00:00, 141.61it/s]\n"
     ]
    },
    {
     "name": "stdout",
     "output_type": "stream",
     "text": [
      "Epoch 26, Loss: 3.4006\n"
     ]
    },
    {
     "name": "stderr",
     "output_type": "stream",
     "text": [
      "Training Epoch 27: 100%|██████████| 500/500 [00:03<00:00, 143.42it/s]\n"
     ]
    },
    {
     "name": "stdout",
     "output_type": "stream",
     "text": [
      "Epoch 27, Loss: 3.8569\n"
     ]
    },
    {
     "name": "stderr",
     "output_type": "stream",
     "text": [
      "Training Epoch 28: 100%|██████████| 500/500 [00:03<00:00, 141.52it/s]\n"
     ]
    },
    {
     "name": "stdout",
     "output_type": "stream",
     "text": [
      "Epoch 28, Loss: 3.1196\n"
     ]
    },
    {
     "name": "stderr",
     "output_type": "stream",
     "text": [
      "Training Epoch 29: 100%|██████████| 500/500 [00:03<00:00, 140.75it/s]\n"
     ]
    },
    {
     "name": "stdout",
     "output_type": "stream",
     "text": [
      "Epoch 29, Loss: 2.2486\n"
     ]
    },
    {
     "name": "stderr",
     "output_type": "stream",
     "text": [
      "Training Epoch 30: 100%|██████████| 500/500 [00:03<00:00, 144.76it/s]\n"
     ]
    },
    {
     "name": "stdout",
     "output_type": "stream",
     "text": [
      "Epoch 30, Loss: 1.9152\n"
     ]
    },
    {
     "name": "stderr",
     "output_type": "stream",
     "text": [
      "Training Epoch 31: 100%|██████████| 500/500 [00:03<00:00, 141.91it/s]\n"
     ]
    },
    {
     "name": "stdout",
     "output_type": "stream",
     "text": [
      "Epoch 31, Loss: 1.5273\n"
     ]
    },
    {
     "name": "stderr",
     "output_type": "stream",
     "text": [
      "Training Epoch 32: 100%|██████████| 500/500 [00:03<00:00, 143.01it/s]\n"
     ]
    },
    {
     "name": "stdout",
     "output_type": "stream",
     "text": [
      "Epoch 32, Loss: 1.2643\n"
     ]
    },
    {
     "name": "stderr",
     "output_type": "stream",
     "text": [
      "Training Epoch 33: 100%|██████████| 500/500 [00:03<00:00, 143.69it/s]\n"
     ]
    },
    {
     "name": "stdout",
     "output_type": "stream",
     "text": [
      "Epoch 33, Loss: 0.9705\n"
     ]
    },
    {
     "name": "stderr",
     "output_type": "stream",
     "text": [
      "Training Epoch 34: 100%|██████████| 500/500 [00:03<00:00, 139.06it/s]\n"
     ]
    },
    {
     "name": "stdout",
     "output_type": "stream",
     "text": [
      "Epoch 34, Loss: 1.9312\n"
     ]
    },
    {
     "name": "stderr",
     "output_type": "stream",
     "text": [
      "Training Epoch 35: 100%|██████████| 500/500 [00:03<00:00, 137.99it/s]\n"
     ]
    },
    {
     "name": "stdout",
     "output_type": "stream",
     "text": [
      "Epoch 35, Loss: 0.4855\n"
     ]
    },
    {
     "name": "stderr",
     "output_type": "stream",
     "text": [
      "Training Epoch 36: 100%|██████████| 500/500 [00:03<00:00, 142.12it/s]\n"
     ]
    },
    {
     "name": "stdout",
     "output_type": "stream",
     "text": [
      "Epoch 36, Loss: 0.7264\n"
     ]
    },
    {
     "name": "stderr",
     "output_type": "stream",
     "text": [
      "Training Epoch 37: 100%|██████████| 500/500 [00:03<00:00, 141.87it/s]\n"
     ]
    },
    {
     "name": "stdout",
     "output_type": "stream",
     "text": [
      "Epoch 37, Loss: 0.3847\n"
     ]
    },
    {
     "name": "stderr",
     "output_type": "stream",
     "text": [
      "Training Epoch 38: 100%|██████████| 500/500 [00:03<00:00, 143.96it/s]\n"
     ]
    },
    {
     "name": "stdout",
     "output_type": "stream",
     "text": [
      "Epoch 38, Loss: 0.5023\n"
     ]
    },
    {
     "name": "stderr",
     "output_type": "stream",
     "text": [
      "Training Epoch 39: 100%|██████████| 500/500 [00:03<00:00, 142.41it/s]\n"
     ]
    },
    {
     "name": "stdout",
     "output_type": "stream",
     "text": [
      "Epoch 39, Loss: 0.3547\n"
     ]
    },
    {
     "name": "stderr",
     "output_type": "stream",
     "text": [
      "Training Epoch 40: 100%|██████████| 500/500 [00:02<00:00, 181.20it/s]\n"
     ]
    },
    {
     "name": "stdout",
     "output_type": "stream",
     "text": [
      "Epoch 40, Loss: 0.8120\n"
     ]
    },
    {
     "name": "stderr",
     "output_type": "stream",
     "text": [
      "Training Epoch 41: 100%|██████████| 500/500 [00:02<00:00, 191.30it/s]\n"
     ]
    },
    {
     "name": "stdout",
     "output_type": "stream",
     "text": [
      "Epoch 41, Loss: 0.2414\n"
     ]
    },
    {
     "name": "stderr",
     "output_type": "stream",
     "text": [
      "Training Epoch 42: 100%|██████████| 500/500 [00:02<00:00, 181.63it/s]\n"
     ]
    },
    {
     "name": "stdout",
     "output_type": "stream",
     "text": [
      "Epoch 42, Loss: 0.3043\n"
     ]
    },
    {
     "name": "stderr",
     "output_type": "stream",
     "text": [
      "Training Epoch 43: 100%|██████████| 500/500 [00:02<00:00, 182.91it/s]\n"
     ]
    },
    {
     "name": "stdout",
     "output_type": "stream",
     "text": [
      "Epoch 43, Loss: 0.4411\n"
     ]
    },
    {
     "name": "stderr",
     "output_type": "stream",
     "text": [
      "Training Epoch 44: 100%|██████████| 500/500 [00:02<00:00, 182.12it/s]\n"
     ]
    },
    {
     "name": "stdout",
     "output_type": "stream",
     "text": [
      "Epoch 44, Loss: 0.0320\n"
     ]
    },
    {
     "name": "stderr",
     "output_type": "stream",
     "text": [
      "Training Epoch 45: 100%|██████████| 500/500 [00:02<00:00, 184.00it/s]"
     ]
    },
    {
     "name": "stdout",
     "output_type": "stream",
     "text": [
      "Epoch 45, Loss: 0.0432\n"
     ]
    },
    {
     "name": "stderr",
     "output_type": "stream",
     "text": [
      "\n"
     ]
    }
   ],
   "source": [
    "# %% Training loop\n",
    "model.train()\n",
    "loss_history = []\n",
    "\n",
    "for epoch in range(45):\n",
    "    total_loss = 0\n",
    "\n",
    "    for data in tqdm(train_loader, desc=f\"Training Epoch {epoch+1}\"):\n",
    "        data = data.to(device)\n",
    "        optimizer.zero_grad()\n",
    "        out = model(data.x, data.edge_index, data.edge_attr, data.anchor_mask)\n",
    "\n",
    "        # Compute loss only for unknown nodes\n",
    "        loss = F.mse_loss(out[data.unknown_mask], data.y[data.unknown_mask])\n",
    "        loss.backward()\n",
    "        optimizer.step()\n",
    "        \n",
    "        total_loss += loss.item()\n",
    "    \n",
    "    avg_loss = total_loss / len(train_loader)\n",
    "    loss_history.append(avg_loss)\n",
    "    print(f'Epoch {epoch+1}, Loss: {avg_loss:.4f}')"
   ]
  },
  {
   "cell_type": "code",
   "execution_count": 26,
   "metadata": {},
   "outputs": [
    {
     "data": {
      "image/png": "[encoded data removed]",
      "text/plain": [
       "<Figure size 432x288 with 1 Axes>"
      ]
     },
     "metadata": {
      "needs_background": "light"
     },
     "output_type": "display_data"
    }
   ],
   "source": [
    "# %% Plot training loss\n",
    "plt.plot(loss_history)\n",
    "plt.xlabel('Epoch')\n",
    "plt.ylabel('Loss')\n",
    "plt.title('Training Loss')\n",
    "plt.show()"
   ]
  },
  {
   "cell_type": "code",
   "execution_count": 27,
   "metadata": {},
   "outputs": [
    {
     "name": "stderr",
     "output_type": "stream",
     "text": [
      "Testing GCN: 100%|██████████| 1000/1000 [00:03<00:00, 315.39it/s]\n"
     ]
    },
    {
     "data": {
      "image/png": "[encoded data removed]",
      "text/plain": [
       "<Figure size 864x432 with 1 Axes>"
      ]
     },
     "metadata": {},
     "output_type": "display_data"
    },
    {
     "name": "stdout",
     "output_type": "stream",
     "text": [
      "GCN Mean Error: 29554.7266 meters, Median Error: 28369.0966 meters\n"
     ]
    },
    {
     "data": {
      "image/png": "[encoded data removed]",
      "text/plain": [
       "<Figure size 864x432 with 1 Axes>"
      ]
     },
     "metadata": {},
     "output_type": "display_data"
    }
   ],
   "source": [
    "# %% Evaluation and Visualization of GCN Results\n",
    "from geopy.distance import geodesic\n",
    "\n",
    "model.eval()\n",
    "errors_gcn = []\n",
    "\n",
    "# Create test DataLoader\n",
    "test_loader = DataLoader(data_list, batch_size=1, shuffle=False)\n",
    "\n",
    "with torch.no_grad():\n",
    "    for data in tqdm(test_loader, desc=\"Testing GCN\"):\n",
    "        data = data.to(device)\n",
    "        out = model(data.x, data.edge_index, data.edge_attr, data.anchor_mask)\n",
    "        predicted_positions = out.cpu().numpy()\n",
    "        true_positions = data.y.cpu().numpy()\n",
    "\n",
    "        # Overwrite anchor nodes' positions with true positions (since anchors are known)\n",
    "        predicted_positions[data.anchor_mask.cpu()] = true_positions[data.anchor_mask.cpu()]\n",
    "\n",
    "        # Calculate estimation errors for unknown nodes using Haversine distance\n",
    "        for idx in range(true_positions.shape[0]):\n",
    "            if data.unknown_mask[idx]:  # Only for unknown nodes\n",
    "                true_pos = (true_positions[idx][0], true_positions[idx][1])\n",
    "                pred_pos = (predicted_positions[idx][0], predicted_positions[idx][1])\n",
    "                error = geodesic(true_pos, pred_pos).meters\n",
    "                errors_gcn.append(error)\n",
    "\n",
    "# %% Convert errors to numpy arrays\n",
    "errors_gcn = np.array(errors_gcn)\n",
    "\n",
    "# Plot error distributions\n",
    "plt.figure(figsize=(12, 6), facecolor='white')\n",
    "\n",
    "plt.hist(errors_gcn, bins=20, alpha=0.7, label='GCN Errors', color='skyblue')\n",
    "plt.xlabel('Localization Error (meters)')\n",
    "plt.ylabel('Number of Nodes')\n",
    "plt.title('Error Distribution for GCN on Test Data')\n",
    "plt.legend()\n",
    "plt.show()\n",
    "\n",
    "# Print mean and median errors\n",
    "print(f\"GCN Mean Error: {errors_gcn.mean():.4f} meters, Median Error: {np.median(errors_gcn):.4f} meters\")\n",
    "\n",
    "# %% Visualization: Ground Truth vs. Predicted Positions\n",
    "sample_data = data_list[0]  # Get a sample test graph for visualization\n",
    "sample_data = sample_data.to(device)\n",
    "\n",
    "with torch.no_grad():\n",
    "    out = model(sample_data.x, sample_data.edge_index, sample_data.edge_attr, sample_data.anchor_mask)\n",
    "    predicted_positions = out.cpu().numpy()\n",
    "    true_positions = sample_data.y.cpu().numpy()\n",
    "\n",
    "# Overwrite anchor nodes' positions with true positions (since anchors are known)\n",
    "predicted_positions[sample_data.anchor_mask.cpu()] = true_positions[sample_data.anchor_mask.cpu()]\n",
    "\n",
    "# Plotting\n",
    "plt.figure(figsize=(12, 6), facecolor='white')\n",
    "\n",
    "# Ground truth positions\n",
    "plt.scatter(true_positions[sample_data.unknown_mask.cpu(), 0], true_positions[sample_data.unknown_mask.cpu(), 1], \n",
    "            c='blue', label='True Unknown Node Positions', alpha=0.6)\n",
    "\n",
    "# Predicted positions\n",
    "plt.scatter(predicted_positions[sample_data.unknown_mask.cpu(), 0], predicted_positions[sample_data.unknown_mask.cpu(), 1], \n",
    "            c='red', label='Predicted Unknown Node Positions (GCN)', alpha=0.6)\n",
    "\n",
    "# Anchor positions\n",
    "plt.scatter(true_positions[sample_data.anchor_mask.cpu(), 0], true_positions[sample_data.anchor_mask.cpu(), 1], \n",
    "            c='green', label='Anchor Nodes', marker='^', s=100)\n",
    "\n",
    "plt.legend()\n",
    "plt.xlabel('Latitude')\n",
    "plt.ylabel('Longitude')\n",
    "plt.title('Comparison of True vs. Predicted Node Positions')\n",
    "plt.grid(True)\n",
    "plt.show()\n"
   ]
  },
  {
   "cell_type": "code",
   "execution_count": null,
   "metadata": {},
   "outputs": [],
   "source": []
  }
 ],
 "metadata": {
  "kernelspec": {
   "display_name": "Python 3",
   "language": "python",
   "name": "python3"
  },
  "language_info": {
   "codemirror_mode": {
    "name": "ipython",
    "version": 3
   },
   "file_extension": ".py",
   "mimetype": "text/x-python",
   "name": "python",
   "nbconvert_exporter": "python",
   "pygments_lexer": "ipython3",
   "version": "3.10.11"
  }
 },
 "nbformat": 4,
 "nbformat_minor": 2
}
