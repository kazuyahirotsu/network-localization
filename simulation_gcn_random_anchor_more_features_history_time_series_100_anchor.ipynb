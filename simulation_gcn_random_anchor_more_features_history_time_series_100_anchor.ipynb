{
 "cells": [
  {
   "cell_type": "code",
   "execution_count": 1,
   "metadata": {},
   "outputs": [
    {
     "name": "stderr",
     "output_type": "stream",
     "text": [
      "C:\\Users\\kazuya\\AppData\\Local\\Packages\\PythonSoftwareFoundation.Python.3.10_qbz5n2kfra8p0\\LocalCache\\local-packages\\Python310\\site-packages\\torch_geometric\\typing.py:85: UserWarning: An issue occurred while importing 'torch-scatter'. Disabling its usage. Stacktrace: [WinError 127] 指定されたプロシージャが見つかりません。\n",
      "  warnings.warn(f\"An issue occurred while importing 'torch-scatter'. \"\n",
      "C:\\Users\\kazuya\\AppData\\Local\\Packages\\PythonSoftwareFoundation.Python.3.10_qbz5n2kfra8p0\\LocalCache\\local-packages\\Python310\\site-packages\\torch_geometric\\typing.py:123: UserWarning: An issue occurred while importing 'torch-sparse'. Disabling its usage. Stacktrace: [WinError 127] 指定されたプロシージャが見つかりません。\n",
      "  warnings.warn(f\"An issue occurred while importing 'torch-sparse'. \"\n",
      "C:\\Users\\kazuya\\AppData\\Local\\Packages\\PythonSoftwareFoundation.Python.3.10_qbz5n2kfra8p0\\LocalCache\\local-packages\\Python310\\site-packages\\threadpoolctl.py:1214: RuntimeWarning: \n",
      "Found Intel OpenMP ('libiomp') and LLVM OpenMP ('libomp') loaded at\n",
      "the same time. Both libraries are known to be incompatible and this\n",
      "can cause random crashes or deadlocks on Linux when loaded in the\n",
      "same Python program.\n",
      "Using threadpoolctl may cause crashes or deadlocks. For more\n",
      "information and possible workarounds, please see\n",
      "    https://github.com/joblib/threadpoolctl/blob/master/multiple_openmp.md\n",
      "\n",
      "  warnings.warn(msg, RuntimeWarning)\n"
     ]
    }
   ],
   "source": [
    "import torch\n",
    "import torch.nn.functional as F\n",
    "from torch_geometric.data import Data\n",
    "from torch_geometric.nn import NNConv\n",
    "from torch_geometric.loader import DataLoader\n",
    "import numpy as np\n",
    "import random\n",
    "from scipy.spatial import KDTree\n",
    "import matplotlib.pyplot as plt\n",
    "from torch.nn import Sequential, Linear\n",
    "from sklearn.preprocessing import StandardScaler\n"
   ]
  },
  {
   "cell_type": "code",
   "execution_count": 2,
   "metadata": {},
   "outputs": [
    {
     "name": "stdout",
     "output_type": "stream",
     "text": [
      "Using device: cuda\n"
     ]
    }
   ],
   "source": [
    "device = torch.device('cuda') if torch.cuda.is_available() else torch.device('cpu')\n",
    "print('Using device:', device)\n"
   ]
  },
  {
   "cell_type": "code",
   "execution_count": 3,
   "metadata": {},
   "outputs": [
    {
     "data": {
      "text/plain": [
       "<torch._C.Generator at 0x212c056b470>"
      ]
     },
     "execution_count": 3,
     "metadata": {},
     "output_type": "execute_result"
    }
   ],
   "source": [
    "# Set seeds for reproducibility\n",
    "random_seed = 42\n",
    "random.seed(random_seed)\n",
    "np.random.seed(random_seed)\n",
    "torch.manual_seed(random_seed)\n"
   ]
  },
  {
   "cell_type": "code",
   "execution_count": 4,
   "metadata": {},
   "outputs": [],
   "source": [
    "# Parameters\n",
    "num_nodes = 100\n",
    "anchors = 25\n",
    "unknowns = num_nodes - anchors\n",
    "communication_range = 14.5  # Adjust as needed\n",
    "num_measurements = 100\n",
    "\n",
    "# Datasets\n",
    "num_train_graphs = 100  # Number of graphs for training\n",
    "num_test_graphs = 20    # Number of graphs for testing\n"
   ]
  },
  {
   "cell_type": "code",
   "execution_count": 5,
   "metadata": {},
   "outputs": [],
   "source": [
    "def generate_random_graph_random_anchors(seed=None, num_measurements=10):\n",
    "    if seed is not None:\n",
    "        random.seed(seed)\n",
    "        np.random.seed(seed)\n",
    "        torch.manual_seed(seed)\n",
    "    \n",
    "    # Generate random positions for anchors and unknown nodes\n",
    "    anchor_positions = np.random.uniform(0, 10, size=(anchors, 2))\n",
    "    unknown_positions = np.random.uniform(0, 10, size=(unknowns, 2))\n",
    "    truth_location_list = np.vstack([anchor_positions, unknown_positions])\n",
    "    \n",
    "    # Initial estimates\n",
    "    estimate_location_list = np.zeros((num_nodes, 2))\n",
    "    estimate_location_list[:anchors] = truth_location_list[:anchors]  # Anchors know their positions\n",
    "    estimate_location_list[anchors:] = np.random.uniform(0, 10, size=(unknowns, 2))\n",
    "    \n",
    "    # Build the graph\n",
    "    tree = KDTree(truth_location_list)\n",
    "    edges = tree.query_pairs(r=communication_range)\n",
    "    edges = list(edges)\n",
    "    # Add reverse edges for undirected graph\n",
    "    edge_index = np.array(edges + [(j, i) for (i, j) in edges]).T\n",
    "    edge_index = torch.tensor(edge_index, dtype=torch.long)\n",
    "    \n",
    "    # Generate edge attributes (time-series measurements)\n",
    "    num_edges = edge_index.shape[1]\n",
    "    edge_attr_list = []\n",
    "    for i in range(num_edges):\n",
    "        src = edge_index[0, i].item()\n",
    "        dst = edge_index[1, i].item()\n",
    "        distance = np.linalg.norm(truth_location_list[src] - truth_location_list[dst])\n",
    "        # Simulate multiple RSSI measurements with noise\n",
    "        rssi_measurements = -17.2 * np.log10(distance * 1000) - 62.4 + np.random.normal(0, 3, num_measurements)\n",
    "        noisy_distances = 10 ** ((rssi_measurements + 62.4) / -17.2) / 1000\n",
    "        edge_attr_list.append(noisy_distances)\n",
    "    edge_attr = torch.tensor(edge_attr_list, dtype=torch.float)\n",
    "    \n",
    "    # Compute node features\n",
    "    x = compute_node_features(truth_location_list, estimate_location_list, edge_index, edge_attr)\n",
    "    \n",
    "    # Labels and masks\n",
    "    y = torch.tensor(truth_location_list, dtype=torch.float)\n",
    "    anchor_mask = torch.zeros(num_nodes, dtype=torch.bool)\n",
    "    anchor_mask[:anchors] = True\n",
    "    unknown_mask = ~anchor_mask\n",
    "    \n",
    "    # Create data object\n",
    "    data = Data(x=x, edge_index=edge_index, edge_attr=edge_attr, y=y)\n",
    "    data.anchor_mask = anchor_mask\n",
    "    data.unknown_mask = unknown_mask\n",
    "    \n",
    "    return data"
   ]
  },
  {
   "cell_type": "code",
   "execution_count": 6,
   "metadata": {},
   "outputs": [],
   "source": [
    "def compute_node_features(truth_location_list, estimate_location_list, edge_index, edge_attr):\n",
    "    node_features = []\n",
    "    num_nodes = truth_location_list.shape[0]\n",
    "    for idx in range(num_nodes):\n",
    "        is_anchor = idx < anchors\n",
    "        # Node degree\n",
    "        degree = (edge_index[0] == idx).sum().item()\n",
    "        if is_anchor:\n",
    "            # Anchors: Use known positions and degree\n",
    "            feature = np.hstack([truth_location_list[idx], degree, 1])  # 1 indicates anchor\n",
    "        else:\n",
    "            # Unknown nodes: Use estimated distances to neighboring anchors\n",
    "            neighbor_indices = edge_index[1][edge_index[0] == idx].numpy()\n",
    "            neighbor_anchors = neighbor_indices[neighbor_indices < anchors]\n",
    "            neighbor_edge_indices = np.where(\n",
    "                (edge_index[0].numpy() == idx) & (edge_index[1].numpy() < anchors)\n",
    "            )[0]\n",
    "            if len(neighbor_edge_indices) > 0:\n",
    "                distances = edge_attr[neighbor_edge_indices].numpy().flatten()\n",
    "                # Feature: Mean and std of estimated distances\n",
    "                mean_dist = np.mean(distances)\n",
    "                std_dist = np.std(distances)\n",
    "                feature = np.array([mean_dist, std_dist, degree, 0])  # 0 indicates unknown node\n",
    "            else:\n",
    "                feature = np.array([0.0, 0.0, degree, 0])\n",
    "        node_features.append(feature)\n",
    "    x = torch.tensor(node_features, dtype=torch.float)\n",
    "    return x\n"
   ]
  },
  {
   "cell_type": "code",
   "execution_count": 7,
   "metadata": {},
   "outputs": [
    {
     "name": "stderr",
     "output_type": "stream",
     "text": [
      "C:\\Users\\kazuya\\AppData\\Local\\Temp\\ipykernel_60336\\4258879157.py:36: UserWarning: Creating a tensor from a list of numpy.ndarrays is extremely slow. Please consider converting the list to a single numpy.ndarray with numpy.array() before converting to a tensor. (Triggered internally at C:\\actions-runner\\_work\\pytorch\\pytorch\\builder\\windows\\pytorch\\torch\\csrc\\utils\\tensor_new.cpp:281.)\n",
      "  edge_attr = torch.tensor(edge_attr_list, dtype=torch.float)\n"
     ]
    }
   ],
   "source": [
    "# Generate training data with random anchors\n",
    "train_data_list = [generate_random_graph_random_anchors(seed=i, num_measurements=num_measurements) for i in range(num_train_graphs)]\n",
    "\n",
    "# Generate test data with random anchors\n",
    "test_data_list = [generate_random_graph_random_anchors(seed=1000 + i, num_measurements=num_measurements) for i in range(num_test_graphs)]\n"
   ]
  },
  {
   "cell_type": "code",
   "execution_count": 8,
   "metadata": {},
   "outputs": [],
   "source": [
    "# Collect all node features for scaling\n",
    "all_features = torch.cat([data.x for data in train_data_list], dim=0).numpy()\n",
    "scaler = StandardScaler()\n",
    "scaler.fit(all_features)\n",
    "\n",
    "# Normalize features in training and test data\n",
    "for data in train_data_list + test_data_list:\n",
    "    data.x = torch.tensor(scaler.transform(data.x.numpy()), dtype=torch.float)\n"
   ]
  },
  {
   "cell_type": "code",
   "execution_count": 9,
   "metadata": {},
   "outputs": [],
   "source": [
    "from torch_geometric.loader import DataLoader\n",
    "\n",
    "# Create data loaders\n",
    "train_loader = DataLoader(train_data_list, batch_size=10, shuffle=True)\n",
    "test_loader = DataLoader(test_data_list, batch_size=1, shuffle=False)\n"
   ]
  },
  {
   "cell_type": "code",
   "execution_count": 10,
   "metadata": {},
   "outputs": [],
   "source": [
    "class EdgeFeatureNet(torch.nn.Module):\n",
    "    def __init__(self, input_dim, output_dim):\n",
    "        super(EdgeFeatureNet, self).__init__()\n",
    "        self.net = Sequential(\n",
    "            Linear(input_dim, 64),\n",
    "            torch.nn.ReLU(),\n",
    "            Linear(64, output_dim)\n",
    "        )\n",
    "    \n",
    "    def forward(self, x):\n",
    "        return self.net(x)\n",
    "\n",
    "class GCN(torch.nn.Module):\n",
    "    def __init__(self, input_dim, hidden_dim, output_dim, edge_feature_dim, num_measurements):\n",
    "        super(GCN, self).__init__()\n",
    "        # Edge feature network to process time-series edge attributes\n",
    "        self.edge_net = EdgeFeatureNet(num_measurements, edge_feature_dim)\n",
    "        \n",
    "        # Edge networks for NNConv layers\n",
    "        nn1 = Sequential(Linear(edge_feature_dim, hidden_dim * input_dim))\n",
    "        self.conv1 = NNConv(input_dim, hidden_dim, nn1, aggr='mean')\n",
    "        \n",
    "        nn2 = Sequential(Linear(edge_feature_dim, hidden_dim * hidden_dim))\n",
    "        self.conv2 = NNConv(hidden_dim, hidden_dim, nn2, aggr='mean')\n",
    "        \n",
    "        self.fc = Linear(hidden_dim, output_dim)\n",
    "        \n",
    "        # Projection layers for anchor nodes\n",
    "        self.anchor_proj1 = Linear(input_dim, hidden_dim)\n",
    "        self.anchor_proj2 = Linear(hidden_dim, hidden_dim)\n",
    "    \n",
    "    def forward(self, x, edge_index, edge_attr, anchor_mask):\n",
    "        # Process edge attributes using EdgeFeatureNet\n",
    "        edge_attr_processed = self.edge_net(edge_attr)\n",
    "        \n",
    "        # Save the original features of anchor nodes\n",
    "        x_anchor = x[anchor_mask]\n",
    "        \n",
    "        # First GNN layer\n",
    "        x = self.conv1(x, edge_index, edge_attr_processed)\n",
    "        x = F.relu(x)\n",
    "        \n",
    "        # Project anchor nodes' features to match the hidden dimension\n",
    "        x_anchor_proj = self.anchor_proj1(x_anchor)\n",
    "        \n",
    "        # Create a full-sized tensor for x_anchor_proj\n",
    "        x_anchor_proj_full = x.clone()\n",
    "        x_anchor_proj_full[anchor_mask] = x_anchor_proj\n",
    "        \n",
    "        # Combine the projected anchor features with the updated features\n",
    "        x = torch.where(anchor_mask.unsqueeze(1), x_anchor_proj_full, x)\n",
    "        \n",
    "        # Save the features of anchor nodes after the first layer\n",
    "        x_anchor = x[anchor_mask]\n",
    "        \n",
    "        # Second GNN layer\n",
    "        x = self.conv2(x, edge_index, edge_attr_processed)\n",
    "        x = F.relu(x)\n",
    "        \n",
    "        # Project anchor nodes' features to match the hidden dimension\n",
    "        x_anchor_proj = self.anchor_proj2(x_anchor)\n",
    "        \n",
    "        # Create a full-sized tensor for x_anchor_proj\n",
    "        x_anchor_proj_full = x.clone()\n",
    "        x_anchor_proj_full[anchor_mask] = x_anchor_proj\n",
    "        \n",
    "        # Combine the anchor features with the updated features\n",
    "        x = torch.where(anchor_mask.unsqueeze(1), x_anchor_proj_full, x)\n",
    "        \n",
    "        # Final fully connected layer\n",
    "        x = self.fc(x)\n",
    "        return x"
   ]
  },
  {
   "cell_type": "code",
   "execution_count": 11,
   "metadata": {},
   "outputs": [],
   "source": [
    "input_dim = train_data_list[0].x.shape[1]  # Adjust input dimension based on node features\n",
    "hidden_dim = 64  # You can adjust this\n",
    "output_dim = 2   # Predicting x and y coordinates\n",
    "edge_feature_dim = 32  # Adjust as needed\n",
    "\n",
    "# Instantiate model and optimizer\n",
    "model = GCN(input_dim=input_dim, hidden_dim=hidden_dim, output_dim=output_dim, edge_feature_dim=edge_feature_dim, num_measurements=num_measurements).to(device)\n",
    "optimizer = torch.optim.Adam(model.parameters(), lr=0.01, weight_decay=1e-5)"
   ]
  },
  {
   "cell_type": "code",
   "execution_count": 12,
   "metadata": {},
   "outputs": [
    {
     "name": "stdout",
     "output_type": "stream",
     "text": [
      "Epoch 0, Loss: 34.0613\n",
      "Epoch 10, Loss: 0.7776\n",
      "Epoch 20, Loss: 0.5228\n",
      "Epoch 30, Loss: 0.3807\n",
      "Epoch 40, Loss: 0.3440\n",
      "Epoch 50, Loss: 0.2475\n",
      "Epoch 60, Loss: 0.2290\n",
      "Epoch 70, Loss: 0.1861\n",
      "Epoch 80, Loss: 0.1596\n",
      "Epoch 90, Loss: 0.1318\n"
     ]
    }
   ],
   "source": [
    "# Training loop\n",
    "model.train()\n",
    "loss_history = []\n",
    "\n",
    "for epoch in range(100):\n",
    "    total_loss = 0\n",
    "\n",
    "    for data in train_loader:\n",
    "        data = data.to(device)\n",
    "        optimizer.zero_grad()\n",
    "        out = model(data.x, data.edge_index, data.edge_attr, data.anchor_mask)\n",
    "\n",
    "        # Compute loss only for unknown nodes\n",
    "        loss = F.mse_loss(out[data.unknown_mask], data.y[data.unknown_mask])\n",
    "        loss.backward()\n",
    "        optimizer.step()\n",
    "        \n",
    "        total_loss += loss.item()\n",
    "    \n",
    "    avg_loss = total_loss / len(train_loader)\n",
    "    loss_history.append(avg_loss)\n",
    "    if epoch % 10 == 0:\n",
    "        print(f'Epoch {epoch}, Loss: {avg_loss:.4f}')\n"
   ]
  },
  {
   "cell_type": "code",
   "execution_count": 13,
   "metadata": {},
   "outputs": [
    {
     "data": {
      "image/png": "[encoded data removed]",
      "text/plain": [
       "<Figure size 432x288 with 1 Axes>"
      ]
     },
     "metadata": {
      "needs_background": "light"
     },
     "output_type": "display_data"
    }
   ],
   "source": [
    "plt.plot(loss_history)\n",
    "plt.xlabel('Epoch')\n",
    "plt.ylabel('Loss')\n",
    "plt.title('Training Loss')\n",
    "plt.show()\n"
   ]
  },
  {
   "cell_type": "code",
   "execution_count": 1,
   "metadata": {},
   "outputs": [],
   "source": [
    "import copy\n",
    "import scipy.optimize as opt\n",
    "def multilateration_method(data):\n",
    "    # Extract data\n",
    "    truth_location_list = data.y.numpy()\n",
    "    estimated_accuracy_list = np.array([1] * anchors + [0] * unknowns)\n",
    "    estimate_location_list = np.zeros((num_nodes, 2))\n",
    "    estimate_location_list[:anchors] = truth_location_list[:anchors]\n",
    "    estimate_location_list[anchors:] = np.random.uniform(0, 10, size=(unknowns, 2))\n",
    "    \n",
    "    # Initialize history data structure\n",
    "    neighbor_history = {i: {} for i in range(num_nodes)}\n",
    "    max_iterations = 100\n",
    "    \n",
    "    for iteration in range(max_iterations):\n",
    "        estimate_location_list_old = copy.deepcopy(estimate_location_list)\n",
    "        estimated_accuracy_list_old = copy.deepcopy(estimated_accuracy_list)\n",
    "        for idx in range(num_nodes):\n",
    "            if estimated_accuracy_list_old[idx] == 1:\n",
    "                continue  # Skip anchors\n",
    "            neighbor_list = []\n",
    "            # Find neighbors\n",
    "            neighbor_indices = data.edge_index[1][data.edge_index[0] == idx].numpy()\n",
    "            neighbor_indices = np.unique(neighbor_indices)\n",
    "            for neighbor_idx in neighbor_indices:\n",
    "                if estimated_accuracy_list_old[neighbor_idx] >= 0.25:\n",
    "                    # Use neighbor's estimated location and compute distance\n",
    "                    neighbor_loc = estimate_location_list[neighbor_idx]\n",
    "                    distance = np.linalg.norm(truth_location_list[idx] - truth_location_list[neighbor_idx])\n",
    "                    # Simulate RSSI with noise\n",
    "                    rssi = -17.2 * np.log10(distance*1000) - 62.4 + np.random.normal(0, 3)\n",
    "                    noisy_distance = 10**((rssi + 62.4)/-17.2)/1000\n",
    "                    # Update history data\n",
    "                    if neighbor_idx not in neighbor_history[idx]:\n",
    "                        neighbor_history[idx][neighbor_idx] = []\n",
    "                    neighbor_history[idx][neighbor_idx].append(noisy_distance)\n",
    "                    # Use average of historical distances\n",
    "                    avg_noisy_distance = np.mean(neighbor_history[idx][neighbor_idx])\n",
    "                    neighbor_list.append((neighbor_loc, avg_noisy_distance))\n",
    "            # Perform multilateration\n",
    "            if len(neighbor_list) >= 3:\n",
    "                def error_function(x):\n",
    "                    return sum((np.linalg.norm(x - np.array(neighbor[0])) - neighbor[1])**2 for neighbor in neighbor_list)\n",
    "                initial_guess = np.mean([neighbor[0] for neighbor in neighbor_list], axis=0)\n",
    "                result = opt.minimize(error_function, initial_guess)\n",
    "                if result.success:\n",
    "                    estimate_location_list[idx] = result.x\n",
    "                    estimated_accuracy_list[idx] = 1 - np.sqrt(result.fun / len(neighbor_list))/np.mean([neighbor[1] for neighbor in neighbor_list])\n",
    "        # Check for convergence (optional)\n",
    "        if np.allclose(estimate_location_list, estimate_location_list_old, atol=1e-2):\n",
    "            break  # Converged\n",
    "    \n",
    "    # Compute errors for unknown nodes\n",
    "    errors = np.linalg.norm(estimate_location_list[anchors:] - truth_location_list[anchors:], axis=1)\n",
    "    return errors\n"
   ]
  },
  {
   "cell_type": "code",
   "execution_count": 15,
   "metadata": {},
   "outputs": [],
   "source": [
    "model.eval()\n",
    "errors_gcn = []\n",
    "errors_multilateration = []\n",
    "\n",
    "with torch.no_grad():\n",
    "    for data in test_loader:\n",
    "        data = data.to(device)  # Move data to device\n",
    "        out = model(data.x, data.edge_index, data.edge_attr, data.anchor_mask)\n",
    "        predicted_positions = out.cpu().numpy()  # Move predictions back to CPU for numpy operations\n",
    "        true_positions = data.y.cpu().numpy()    # Move true positions back to CPU\n",
    "\n",
    "        # Overwrite anchor nodes' positions with true positions\n",
    "        predicted_positions[data.anchor_mask.cpu()] = true_positions[data.anchor_mask.cpu()]\n",
    "\n",
    "        # Calculate estimation errors for unknown nodes\n",
    "        error = np.linalg.norm(predicted_positions[data.unknown_mask.cpu()] - true_positions[data.unknown_mask.cpu()], axis=1)\n",
    "        errors_gcn.extend(error)\n",
    "        \n",
    "        # Multilateration method errors\n",
    "        error_multi = multilateration_method(data.cpu())  # Move data back to CPU if needed\n",
    "        errors_multilateration.extend(error_multi)\n"
   ]
  },
  {
   "cell_type": "code",
   "execution_count": 16,
   "metadata": {},
   "outputs": [
    {
     "data": {
      "image/png": "[encoded data removed]",
      "text/plain": [
       "<Figure size 864x432 with 1 Axes>"
      ]
     },
     "metadata": {},
     "output_type": "display_data"
    },
    {
     "name": "stdout",
     "output_type": "stream",
     "text": [
      "Multilateration Mean Error: 0.5690, Median Error: 0.5528\n",
      "GCN Mean Error: 0.5475, Median Error: 0.4875\n"
     ]
    }
   ],
   "source": [
    "# Convert errors to numpy arrays\n",
    "errors_gcn = np.array(errors_gcn)\n",
    "errors_multilateration = np.array(errors_multilateration)\n",
    "\n",
    "# Plot error distributions\n",
    "plt.figure(figsize=(12, 6), facecolor='white')\n",
    "\n",
    "plt.hist(errors_multilateration, bins=20, alpha=0.5, label='Multilateration')\n",
    "plt.hist(errors_gcn, bins=20, alpha=0.5, label='GCN')\n",
    "plt.xlabel('Localization Error')\n",
    "plt.ylabel('Number of Nodes')\n",
    "plt.title('Error Distribution Comparison on Test Data')\n",
    "plt.legend()\n",
    "plt.show()\n",
    "\n",
    "# Print mean and median errors\n",
    "print(f\"Multilateration Mean Error: {errors_multilateration.mean():.4f}, Median Error: {np.median(errors_multilateration):.4f}\")\n",
    "print(f\"GCN Mean Error: {errors_gcn.mean():.4f}, Median Error: {np.median(errors_gcn):.4f}\")\n"
   ]
  },
  {
   "cell_type": "code",
   "execution_count": 17,
   "metadata": {},
   "outputs": [
    {
     "data": {
      "image/png": "[encoded data removed]",
      "text/plain": [
       "<Figure size 864x432 with 1 Axes>"
      ]
     },
     "metadata": {},
     "output_type": "display_data"
    },
    {
     "name": "stdout",
     "output_type": "stream",
     "text": [
      "Multilateration Mean Error: 0.5690, Median Error: 0.5528\n",
      "GCN Mean Error: 0.5475, Median Error: 0.4875\n"
     ]
    }
   ],
   "source": [
    "# Convert errors to numpy arrays\n",
    "errors_gcn = np.array(errors_gcn)\n",
    "errors_multilateration = np.array(errors_multilateration)\n",
    "\n",
    "# Plot error distributions\n",
    "plt.figure(figsize=(12, 6), facecolor='white')\n",
    "\n",
    "plt.hist(errors_multilateration, bins=20, alpha=0.5, label='Multilateration')\n",
    "plt.hist(errors_gcn, bins=20, alpha=0.5, label='GCN')\n",
    "plt.xlabel('Localization Error')\n",
    "plt.ylabel('Number of Nodes')\n",
    "plt.title('Error Distribution Comparison on Test Data')\n",
    "plt.legend()\n",
    "plt.show()\n",
    "\n",
    "# Print mean and median errors\n",
    "print(f\"Multilateration Mean Error: {errors_multilateration.mean():.4f}, Median Error: {np.median(errors_multilateration):.4f}\")\n",
    "print(f\"GCN Mean Error: {errors_gcn.mean():.4f}, Median Error: {np.median(errors_gcn):.4f}\")\n"
   ]
  },
  {
   "cell_type": "code",
   "execution_count": null,
   "metadata": {},
   "outputs": [],
   "source": []
  },
  {
   "cell_type": "code",
   "execution_count": 18,
   "metadata": {},
   "outputs": [
    {
     "data": {
      "image/png": "[encoded data removed]",
      "text/plain": [
       "<Figure size 864x432 with 2 Axes>"
      ]
     },
     "metadata": {
      "needs_background": "light"
     },
     "output_type": "display_data"
    }
   ],
   "source": [
    "# Get a sample test graph\n",
    "sample_data = test_data_list[0]\n",
    "sample_data = sample_data.to(device)\n",
    "\n",
    "# GCN predictions\n",
    "model.eval()\n",
    "with torch.no_grad():\n",
    "    out = model(sample_data.x, sample_data.edge_index, sample_data.edge_attr, sample_data.anchor_mask)\n",
    "    predicted_positions = out.cpu().numpy()\n",
    "    true_positions = sample_data.y.cpu().numpy()\n",
    "\n",
    "# Multilateration predictions\n",
    "estimate_location_list = np.zeros((num_nodes, 2))\n",
    "estimate_location_list[:anchors] = true_positions[:anchors]\n",
    "estimate_location_list[anchors:] = np.random.uniform(0, 10, size=(unknowns, 2))\n",
    "errors_multi = multilateration_method(sample_data.cpu())\n",
    "multi_predicted_positions = estimate_location_list\n",
    "\n",
    "# Plotting\n",
    "plt.figure(figsize=(12,6))\n",
    "\n",
    "plt.subplot(1,2,1)\n",
    "plt.title('GCN Predicted Positions vs True Positions')\n",
    "plt.scatter(true_positions[sample_data.unknown_mask.cpu(),0], true_positions[sample_data.unknown_mask.cpu(),1], c='blue', label='True Positions', alpha=0.5)\n",
    "plt.scatter(predicted_positions[sample_data.unknown_mask.cpu(),0], predicted_positions[sample_data.unknown_mask.cpu(),1], c='red', label='GCN Predicted Positions', alpha=0.5)\n",
    "plt.scatter(true_positions[sample_data.anchor_mask.cpu(),0], true_positions[sample_data.anchor_mask.cpu(),1], c='green', label='Anchors', marker='^', s=100)\n",
    "plt.legend()\n",
    "plt.xlabel('X Coordinate')\n",
    "plt.ylabel('Y Coordinate')\n",
    "\n",
    "plt.subplot(1,2,2)\n",
    "plt.title('Multilateration Predicted Positions vs True Positions')\n",
    "plt.scatter(true_positions[sample_data.unknown_mask.cpu(),0], true_positions[sample_data.unknown_mask.cpu(),1], c='blue', label='True Positions', alpha=0.5)\n",
    "plt.scatter(multi_predicted_positions[sample_data.unknown_mask,0], multi_predicted_positions[sample_data.unknown_mask,1], c='orange', label='Multilateration Predicted Positions', alpha=0.5)\n",
    "plt.scatter(true_positions[sample_data.anchor_mask.cpu(),0], true_positions[sample_data.anchor_mask.cpu(),1], c='green', label='Anchors', marker='^', s=100)\n",
    "plt.legend()\n",
    "plt.xlabel('X Coordinate')\n",
    "plt.ylabel('Y Coordinate')\n",
    "\n",
    "plt.tight_layout()\n",
    "plt.show()\n"
   ]
  },
  {
   "cell_type": "code",
   "execution_count": null,
   "metadata": {},
   "outputs": [],
   "source": []
  }
 ],
 "metadata": {
  "kernelspec": {
   "display_name": "Python 3",
   "language": "python",
   "name": "python3"
  },
  "language_info": {
   "codemirror_mode": {
    "name": "ipython",
    "version": 3
   },
   "file_extension": ".py",
   "mimetype": "text/x-python",
   "name": "python",
   "nbconvert_exporter": "python",
   "pygments_lexer": "ipython3",
   "version": "3.10.11"
  }
 },
 "nbformat": 4,
 "nbformat_minor": 2
}
